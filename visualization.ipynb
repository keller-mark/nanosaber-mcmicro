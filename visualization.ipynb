{
 "cells": [
  {
   "cell_type": "code",
   "execution_count": 1,
   "metadata": {},
   "outputs": [],
   "source": [
    "%gui qt"
   ]
  },
  {
   "cell_type": "code",
   "execution_count": 2,
   "metadata": {},
   "outputs": [],
   "source": [
    "import napari\n",
    "from tifffile import imread, imsave\n",
    "from os.path import join"
   ]
  },
  {
   "cell_type": "code",
   "execution_count": 3,
   "metadata": {},
   "outputs": [],
   "source": [
    "img_path = join(\"data\", \"lung\", \"registration\", \"lung.ome.tif\")\n",
    "img_data = imread(img_path)"
   ]
  },
  {
   "cell_type": "code",
   "execution_count": 4,
   "metadata": {},
   "outputs": [
    {
     "data": {
      "text/plain": [
       "(12, 575, 524)"
      ]
     },
     "execution_count": 4,
     "metadata": {},
     "output_type": "execute_result"
    }
   ],
   "source": [
    "img_data.shape"
   ]
  },
  {
   "cell_type": "code",
   "execution_count": 5,
   "metadata": {},
   "outputs": [],
   "source": [
    "viewer = napari.view_image(img_data, rgb=False, channel_axis=0, name=[\n",
    "    'Cycle 1, DAPI',\n",
    "    'Cycle 1, GFP+KP1.9',\n",
    "    'Cycle 1, CD206',\n",
    "    'Cycle 1, BODIPY630-NP',\n",
    "    'Cycle 2, DAPI',\n",
    "    'Cycle 2, Arg1',\n",
    "    'Cycle 2, CD11c',\n",
    "    'Cycle 2, CD45',\n",
    "    'Cycle 3, DAPI',\n",
    "    'Cycle 3, C12-D nanoparticle',\n",
    "    'Cycle 3, 7C1-F5 nanoparticle',\n",
    "    'Cycle 3, G0-P5'\n",
    "])\n",
    "napari.run()"
   ]
  },
  {
   "cell_type": "code",
   "execution_count": null,
   "metadata": {},
   "outputs": [],
   "source": []
  }
 ],
 "metadata": {
  "kernelspec": {
   "display_name": "Python 3",
   "language": "python",
   "name": "python3"
  },
  "language_info": {
   "codemirror_mode": {
    "name": "ipython",
    "version": 3
   },
   "file_extension": ".py",
   "mimetype": "text/x-python",
   "name": "python",
   "nbconvert_exporter": "python",
   "pygments_lexer": "ipython3",
   "version": "3.8.8"
  }
 },
 "nbformat": 4,
 "nbformat_minor": 4
}
