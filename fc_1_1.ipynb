{
 "cells": [
  {
   "cell_type": "code",
   "execution_count": 76,
   "id": "0f79c946-5dcb-424b-9b24-4bcb14a446ee",
   "metadata": {},
   "outputs": [],
   "source": [
    "from FlowCytometryTools import FCMeasurement, ThresholdGate, PolyGate\n",
    "from os.path import join\n",
    "from pylab import *\n",
    "import pandas as pd\n",
    "import numpy as np"
   ]
  },
  {
   "cell_type": "markdown",
   "id": "dacc809a-c884-4e50-8d42-83ee45c70c31",
   "metadata": {},
   "source": [
    "# Lung sample 2.1"
   ]
  },
  {
   "cell_type": "code",
   "execution_count": 77,
   "id": "cb7d710d-eb71-4eb5-ade2-a0ea21392370",
   "metadata": {},
   "outputs": [],
   "source": [
    "# https://eyurtsev.github.io/FlowCytometryTools/API/FlowCytometryTools.FCMeasurement.html#FlowCytometryTools.FCMeasurement"
   ]
  },
  {
   "cell_type": "code",
   "execution_count": 78,
   "id": "2a83e3b1-985b-4a1d-a4e7-9533b2152cf3",
   "metadata": {},
   "outputs": [],
   "source": [
    "sample_id = \"lung_1_1\""
   ]
  },
  {
   "cell_type": "code",
   "execution_count": 79,
   "id": "8b6b402b-68c9-436e-aee0-c70b234928a8",
   "metadata": {},
   "outputs": [],
   "source": [
    "fc_file = join(\"data\", sample_id, \"flowcore\", f\"{sample_id}.fcs\")\n",
    "sample = FCMeasurement(ID=sample_id, datafile=fc_file)"
   ]
  },
  {
   "cell_type": "code",
   "execution_count": 80,
   "id": "a358439e-850f-441d-b9d6-5bbb7ed769d2",
   "metadata": {},
   "outputs": [
    {
     "data": {
      "text/html": [
       "<div>\n",
       "<style scoped>\n",
       "    .dataframe tbody tr th:only-of-type {\n",
       "        vertical-align: middle;\n",
       "    }\n",
       "\n",
       "    .dataframe tbody tr th {\n",
       "        vertical-align: top;\n",
       "    }\n",
       "\n",
       "    .dataframe thead th {\n",
       "        text-align: right;\n",
       "    }\n",
       "</style>\n",
       "<table border=\"1\" class=\"dataframe\">\n",
       "  <thead>\n",
       "    <tr style=\"text-align: right;\">\n",
       "      <th></th>\n",
       "      <th>GFP.KP1.9_cellMask</th>\n",
       "      <th>CD206_cellMask</th>\n",
       "      <th>BODIPY630.NP_cellMask</th>\n",
       "      <th>DAPI_1_cellMask</th>\n",
       "      <th>Arg1_cellMask</th>\n",
       "      <th>CD11c_cellMask</th>\n",
       "      <th>CD45_cellMask</th>\n",
       "      <th>DAPI_2_cellMask</th>\n",
       "      <th>C12.D.nanoparticle_cellMask</th>\n",
       "      <th>X7C1.F5.nanoparticle_cellMask</th>\n",
       "      <th>...</th>\n",
       "      <th>Y_centroid</th>\n",
       "      <th>column_centroid</th>\n",
       "      <th>row_centroid</th>\n",
       "      <th>Area</th>\n",
       "      <th>MajorAxisLength</th>\n",
       "      <th>MinorAxisLength</th>\n",
       "      <th>Eccentricity</th>\n",
       "      <th>Solidity</th>\n",
       "      <th>Extent</th>\n",
       "      <th>Orientation</th>\n",
       "    </tr>\n",
       "  </thead>\n",
       "  <tbody>\n",
       "    <tr>\n",
       "      <th>0</th>\n",
       "      <td>0.0</td>\n",
       "      <td>0.0</td>\n",
       "      <td>0.000000</td>\n",
       "      <td>7918.143066</td>\n",
       "      <td>0.000000</td>\n",
       "      <td>0.000000</td>\n",
       "      <td>0.000000</td>\n",
       "      <td>0.000000</td>\n",
       "      <td>0.0</td>\n",
       "      <td>0.0</td>\n",
       "      <td>...</td>\n",
       "      <td>2.428571</td>\n",
       "      <td>409.714294</td>\n",
       "      <td>2.428571</td>\n",
       "      <td>7.0</td>\n",
       "      <td>4.155375</td>\n",
       "      <td>1.905471</td>\n",
       "      <td>0.888666</td>\n",
       "      <td>1.000000</td>\n",
       "      <td>0.875000</td>\n",
       "      <td>1.425068</td>\n",
       "    </tr>\n",
       "    <tr>\n",
       "      <th>1</th>\n",
       "      <td>0.0</td>\n",
       "      <td>0.0</td>\n",
       "      <td>0.000000</td>\n",
       "      <td>7638.666504</td>\n",
       "      <td>107.083336</td>\n",
       "      <td>0.000000</td>\n",
       "      <td>556.833313</td>\n",
       "      <td>0.000000</td>\n",
       "      <td>0.0</td>\n",
       "      <td>0.0</td>\n",
       "      <td>...</td>\n",
       "      <td>3.416667</td>\n",
       "      <td>442.583344</td>\n",
       "      <td>3.416667</td>\n",
       "      <td>24.0</td>\n",
       "      <td>7.013621</td>\n",
       "      <td>4.610158</td>\n",
       "      <td>0.753616</td>\n",
       "      <td>0.960000</td>\n",
       "      <td>0.685714</td>\n",
       "      <td>-1.353204</td>\n",
       "    </tr>\n",
       "    <tr>\n",
       "      <th>2</th>\n",
       "      <td>0.0</td>\n",
       "      <td>0.0</td>\n",
       "      <td>0.000000</td>\n",
       "      <td>8372.913086</td>\n",
       "      <td>0.000000</td>\n",
       "      <td>0.000000</td>\n",
       "      <td>4514.217285</td>\n",
       "      <td>0.000000</td>\n",
       "      <td>0.0</td>\n",
       "      <td>0.0</td>\n",
       "      <td>...</td>\n",
       "      <td>2.913043</td>\n",
       "      <td>452.347839</td>\n",
       "      <td>2.913043</td>\n",
       "      <td>23.0</td>\n",
       "      <td>9.499780</td>\n",
       "      <td>3.043466</td>\n",
       "      <td>0.947292</td>\n",
       "      <td>0.958333</td>\n",
       "      <td>0.766667</td>\n",
       "      <td>1.504496</td>\n",
       "    </tr>\n",
       "    <tr>\n",
       "      <th>3</th>\n",
       "      <td>0.0</td>\n",
       "      <td>0.0</td>\n",
       "      <td>0.000000</td>\n",
       "      <td>7684.592773</td>\n",
       "      <td>0.000000</td>\n",
       "      <td>0.000000</td>\n",
       "      <td>133.259262</td>\n",
       "      <td>0.000000</td>\n",
       "      <td>0.0</td>\n",
       "      <td>0.0</td>\n",
       "      <td>...</td>\n",
       "      <td>4.666667</td>\n",
       "      <td>477.666656</td>\n",
       "      <td>4.666667</td>\n",
       "      <td>27.0</td>\n",
       "      <td>7.238298</td>\n",
       "      <td>4.843439</td>\n",
       "      <td>0.743136</td>\n",
       "      <td>0.931035</td>\n",
       "      <td>0.642857</td>\n",
       "      <td>-0.480035</td>\n",
       "    </tr>\n",
       "    <tr>\n",
       "      <th>4</th>\n",
       "      <td>0.0</td>\n",
       "      <td>0.0</td>\n",
       "      <td>0.000000</td>\n",
       "      <td>6230.272949</td>\n",
       "      <td>0.000000</td>\n",
       "      <td>0.000000</td>\n",
       "      <td>0.000000</td>\n",
       "      <td>0.000000</td>\n",
       "      <td>0.0</td>\n",
       "      <td>0.0</td>\n",
       "      <td>...</td>\n",
       "      <td>4.136364</td>\n",
       "      <td>491.227264</td>\n",
       "      <td>4.136364</td>\n",
       "      <td>22.0</td>\n",
       "      <td>6.077495</td>\n",
       "      <td>4.645046</td>\n",
       "      <td>0.644858</td>\n",
       "      <td>0.956522</td>\n",
       "      <td>0.733333</td>\n",
       "      <td>1.360154</td>\n",
       "    </tr>\n",
       "    <tr>\n",
       "      <th>...</th>\n",
       "      <td>...</td>\n",
       "      <td>...</td>\n",
       "      <td>...</td>\n",
       "      <td>...</td>\n",
       "      <td>...</td>\n",
       "      <td>...</td>\n",
       "      <td>...</td>\n",
       "      <td>...</td>\n",
       "      <td>...</td>\n",
       "      <td>...</td>\n",
       "      <td>...</td>\n",
       "      <td>...</td>\n",
       "      <td>...</td>\n",
       "      <td>...</td>\n",
       "      <td>...</td>\n",
       "      <td>...</td>\n",
       "      <td>...</td>\n",
       "      <td>...</td>\n",
       "      <td>...</td>\n",
       "      <td>...</td>\n",
       "      <td>...</td>\n",
       "    </tr>\n",
       "    <tr>\n",
       "      <th>2144</th>\n",
       "      <td>0.0</td>\n",
       "      <td>0.0</td>\n",
       "      <td>149.875000</td>\n",
       "      <td>7742.250000</td>\n",
       "      <td>0.000000</td>\n",
       "      <td>0.000000</td>\n",
       "      <td>0.000000</td>\n",
       "      <td>4412.000000</td>\n",
       "      <td>0.0</td>\n",
       "      <td>0.0</td>\n",
       "      <td>...</td>\n",
       "      <td>512.000000</td>\n",
       "      <td>112.250000</td>\n",
       "      <td>512.000000</td>\n",
       "      <td>8.0</td>\n",
       "      <td>4.100618</td>\n",
       "      <td>2.486951</td>\n",
       "      <td>0.795097</td>\n",
       "      <td>0.888889</td>\n",
       "      <td>0.666667</td>\n",
       "      <td>1.144813</td>\n",
       "    </tr>\n",
       "    <tr>\n",
       "      <th>2145</th>\n",
       "      <td>0.0</td>\n",
       "      <td>0.0</td>\n",
       "      <td>7.772727</td>\n",
       "      <td>10408.590820</td>\n",
       "      <td>0.000000</td>\n",
       "      <td>81.772728</td>\n",
       "      <td>0.000000</td>\n",
       "      <td>6942.909180</td>\n",
       "      <td>0.0</td>\n",
       "      <td>0.0</td>\n",
       "      <td>...</td>\n",
       "      <td>514.681824</td>\n",
       "      <td>58.545456</td>\n",
       "      <td>514.681824</td>\n",
       "      <td>22.0</td>\n",
       "      <td>6.861323</td>\n",
       "      <td>4.306052</td>\n",
       "      <td>0.778549</td>\n",
       "      <td>0.880000</td>\n",
       "      <td>0.733333</td>\n",
       "      <td>0.323257</td>\n",
       "    </tr>\n",
       "    <tr>\n",
       "      <th>2146</th>\n",
       "      <td>0.0</td>\n",
       "      <td>0.0</td>\n",
       "      <td>228.333328</td>\n",
       "      <td>8024.000000</td>\n",
       "      <td>0.000000</td>\n",
       "      <td>0.000000</td>\n",
       "      <td>0.000000</td>\n",
       "      <td>5996.666504</td>\n",
       "      <td>0.0</td>\n",
       "      <td>0.0</td>\n",
       "      <td>...</td>\n",
       "      <td>512.666687</td>\n",
       "      <td>105.666664</td>\n",
       "      <td>512.666687</td>\n",
       "      <td>3.0</td>\n",
       "      <td>2.309401</td>\n",
       "      <td>1.333333</td>\n",
       "      <td>0.816497</td>\n",
       "      <td>1.000000</td>\n",
       "      <td>0.750000</td>\n",
       "      <td>0.785398</td>\n",
       "    </tr>\n",
       "    <tr>\n",
       "      <th>2147</th>\n",
       "      <td>0.0</td>\n",
       "      <td>0.0</td>\n",
       "      <td>31.090910</td>\n",
       "      <td>7780.000000</td>\n",
       "      <td>0.000000</td>\n",
       "      <td>0.000000</td>\n",
       "      <td>0.000000</td>\n",
       "      <td>7608.818359</td>\n",
       "      <td>0.0</td>\n",
       "      <td>0.0</td>\n",
       "      <td>...</td>\n",
       "      <td>513.909119</td>\n",
       "      <td>120.363640</td>\n",
       "      <td>513.909119</td>\n",
       "      <td>11.0</td>\n",
       "      <td>4.346130</td>\n",
       "      <td>3.067356</td>\n",
       "      <td>0.708444</td>\n",
       "      <td>1.000000</td>\n",
       "      <td>0.916667</td>\n",
       "      <td>-1.307763</td>\n",
       "    </tr>\n",
       "    <tr>\n",
       "      <th>2148</th>\n",
       "      <td>0.0</td>\n",
       "      <td>0.0</td>\n",
       "      <td>0.000000</td>\n",
       "      <td>6519.299805</td>\n",
       "      <td>0.000000</td>\n",
       "      <td>0.000000</td>\n",
       "      <td>0.000000</td>\n",
       "      <td>0.000000</td>\n",
       "      <td>0.0</td>\n",
       "      <td>0.0</td>\n",
       "      <td>...</td>\n",
       "      <td>518.200012</td>\n",
       "      <td>29.500000</td>\n",
       "      <td>518.200012</td>\n",
       "      <td>10.0</td>\n",
       "      <td>4.816638</td>\n",
       "      <td>2.993326</td>\n",
       "      <td>0.783449</td>\n",
       "      <td>0.833333</td>\n",
       "      <td>0.833333</td>\n",
       "      <td>1.570796</td>\n",
       "    </tr>\n",
       "  </tbody>\n",
       "</table>\n",
       "<p>2149 rows × 22 columns</p>\n",
       "</div>"
      ],
      "text/plain": [
       "      GFP.KP1.9_cellMask  CD206_cellMask  BODIPY630.NP_cellMask  \\\n",
       "0                    0.0             0.0               0.000000   \n",
       "1                    0.0             0.0               0.000000   \n",
       "2                    0.0             0.0               0.000000   \n",
       "3                    0.0             0.0               0.000000   \n",
       "4                    0.0             0.0               0.000000   \n",
       "...                  ...             ...                    ...   \n",
       "2144                 0.0             0.0             149.875000   \n",
       "2145                 0.0             0.0               7.772727   \n",
       "2146                 0.0             0.0             228.333328   \n",
       "2147                 0.0             0.0              31.090910   \n",
       "2148                 0.0             0.0               0.000000   \n",
       "\n",
       "      DAPI_1_cellMask  Arg1_cellMask  CD11c_cellMask  CD45_cellMask  \\\n",
       "0         7918.143066       0.000000        0.000000       0.000000   \n",
       "1         7638.666504     107.083336        0.000000     556.833313   \n",
       "2         8372.913086       0.000000        0.000000    4514.217285   \n",
       "3         7684.592773       0.000000        0.000000     133.259262   \n",
       "4         6230.272949       0.000000        0.000000       0.000000   \n",
       "...               ...            ...             ...            ...   \n",
       "2144      7742.250000       0.000000        0.000000       0.000000   \n",
       "2145     10408.590820       0.000000       81.772728       0.000000   \n",
       "2146      8024.000000       0.000000        0.000000       0.000000   \n",
       "2147      7780.000000       0.000000        0.000000       0.000000   \n",
       "2148      6519.299805       0.000000        0.000000       0.000000   \n",
       "\n",
       "      DAPI_2_cellMask  C12.D.nanoparticle_cellMask  \\\n",
       "0            0.000000                          0.0   \n",
       "1            0.000000                          0.0   \n",
       "2            0.000000                          0.0   \n",
       "3            0.000000                          0.0   \n",
       "4            0.000000                          0.0   \n",
       "...               ...                          ...   \n",
       "2144      4412.000000                          0.0   \n",
       "2145      6942.909180                          0.0   \n",
       "2146      5996.666504                          0.0   \n",
       "2147      7608.818359                          0.0   \n",
       "2148         0.000000                          0.0   \n",
       "\n",
       "      X7C1.F5.nanoparticle_cellMask  ...  Y_centroid  column_centroid  \\\n",
       "0                               0.0  ...    2.428571       409.714294   \n",
       "1                               0.0  ...    3.416667       442.583344   \n",
       "2                               0.0  ...    2.913043       452.347839   \n",
       "3                               0.0  ...    4.666667       477.666656   \n",
       "4                               0.0  ...    4.136364       491.227264   \n",
       "...                             ...  ...         ...              ...   \n",
       "2144                            0.0  ...  512.000000       112.250000   \n",
       "2145                            0.0  ...  514.681824        58.545456   \n",
       "2146                            0.0  ...  512.666687       105.666664   \n",
       "2147                            0.0  ...  513.909119       120.363640   \n",
       "2148                            0.0  ...  518.200012        29.500000   \n",
       "\n",
       "      row_centroid  Area  MajorAxisLength  MinorAxisLength  Eccentricity  \\\n",
       "0         2.428571   7.0         4.155375         1.905471      0.888666   \n",
       "1         3.416667  24.0         7.013621         4.610158      0.753616   \n",
       "2         2.913043  23.0         9.499780         3.043466      0.947292   \n",
       "3         4.666667  27.0         7.238298         4.843439      0.743136   \n",
       "4         4.136364  22.0         6.077495         4.645046      0.644858   \n",
       "...            ...   ...              ...              ...           ...   \n",
       "2144    512.000000   8.0         4.100618         2.486951      0.795097   \n",
       "2145    514.681824  22.0         6.861323         4.306052      0.778549   \n",
       "2146    512.666687   3.0         2.309401         1.333333      0.816497   \n",
       "2147    513.909119  11.0         4.346130         3.067356      0.708444   \n",
       "2148    518.200012  10.0         4.816638         2.993326      0.783449   \n",
       "\n",
       "      Solidity    Extent  Orientation  \n",
       "0     1.000000  0.875000     1.425068  \n",
       "1     0.960000  0.685714    -1.353204  \n",
       "2     0.958333  0.766667     1.504496  \n",
       "3     0.931035  0.642857    -0.480035  \n",
       "4     0.956522  0.733333     1.360154  \n",
       "...        ...       ...          ...  \n",
       "2144  0.888889  0.666667     1.144813  \n",
       "2145  0.880000  0.733333     0.323257  \n",
       "2146  1.000000  0.750000     0.785398  \n",
       "2147  1.000000  0.916667    -1.307763  \n",
       "2148  0.833333  0.833333     1.570796  \n",
       "\n",
       "[2149 rows x 22 columns]"
      ]
     },
     "execution_count": 80,
     "metadata": {},
     "output_type": "execute_result"
    }
   ],
   "source": [
    "sample.get_data()"
   ]
  },
  {
   "cell_type": "code",
   "execution_count": 81,
   "id": "1b50257c-f184-4f97-ad5d-d320f8f14a23",
   "metadata": {},
   "outputs": [
    {
     "name": "stdout",
     "output_type": "stream",
     "text": [
      "('GFP.KP1.9_cellMask', 'CD206_cellMask', 'BODIPY630.NP_cellMask', 'DAPI_1_cellMask', 'Arg1_cellMask', 'CD11c_cellMask', 'CD45_cellMask', 'DAPI_2_cellMask', 'C12.D.nanoparticle_cellMask', 'X7C1.F5.nanoparticle_cellMask', 'G0.P5.nanoparticle_cellMask', 'X_centroid', 'Y_centroid', 'column_centroid', 'row_centroid', 'Area', 'MajorAxisLength', 'MinorAxisLength', 'Eccentricity', 'Solidity', 'Extent', 'Orientation')\n"
     ]
    }
   ],
   "source": [
    "print(sample.channel_names)"
   ]
  },
  {
   "cell_type": "code",
   "execution_count": 82,
   "id": "d46446a1-77e1-4f8e-aa1d-7aceea1dade9",
   "metadata": {},
   "outputs": [],
   "source": [
    "tsample = sample.transform('hlog', channels=['DAPI_1_cellMask'], b=500.0)"
   ]
  },
  {
   "cell_type": "code",
   "execution_count": 83,
   "id": "7c10f49e-5009-4c7a-8b7f-87470f256743",
   "metadata": {},
   "outputs": [],
   "source": [
    "gfp_pos_gate = PolyGate([(2500, 3000), (20000, 3000), (20000, 30000), (2500, 30000)], channels=['DAPI_1_cellMask', 'GFP.KP1.9_cellMask'], region='in', name='GFP+ Tumor')\n",
    "gfp_neg_gate = PolyGate([(2500, 0), (20000, 0), (20000, 2000), (2500, 2000)], channels=['DAPI_1_cellMask', 'GFP.KP1.9_cellMask'], region='in', name='GFP- Host')\n",
    "\n",
    "# Host (slide 1)\n",
    "gfp_neg_cd45_pos_cd206_pos_gate = PolyGate([(500, 500), (15000, 500), (15000, 10000), (500, 10000)], channels=['CD45_cellMask', 'CD206_cellMask'], region='in', name='CD45+CD206+')\n",
    "gfp_neg_cd45_pos_cd206_pos_cd11c_pos_arg1_pos_gate = PolyGate([(3000, 1000), (10000, 1000), (10000, 4000), (3000, 4000)], channels=['Arg1_cellMask', 'CD11c_cellMask'], region='in', name='CD11c+Arg1+')\n",
    "\n",
    "# Tumor (slide 2)\n",
    "gfp_pos_cd45_neg_cd206_neg_gate = PolyGate([(0, 0), (7000, 0), (7000, 13750), (0, 13750)], channels=['CD45_cellMask', 'CD206_cellMask'], region='in', name='CD45-CD206-')\n",
    "gfp_pos_cd45_neg_cd206_neg_cd11c_neg_arg1_neg_gate = PolyGate([(2500, 0), (12500, 0), (12500, 9000), (2500, 9000)], channels=['Arg1_cellMask', 'CD11c_cellMask'], region='in', name='CD11c-Arg1-')"
   ]
  },
  {
   "cell_type": "code",
   "execution_count": 84,
   "id": "d6a02236-b9e3-4dcc-a3dc-93d1c219d4e5",
   "metadata": {},
   "outputs": [
    {
     "data": {
      "text/plain": [
       "<Figure size 432x288 with 0 Axes>"
      ]
     },
     "metadata": {},
     "output_type": "display_data"
    }
   ],
   "source": [
    "figure();"
   ]
  },
  {
   "cell_type": "code",
   "execution_count": 85,
   "id": "5fe31728-71ea-401e-af46-255bd74bd924",
   "metadata": {},
   "outputs": [
    {
     "data": {
      "image/png": "[encoded data removed]",
      "text/plain": [
       "<Figure size 432x288 with 1 Axes>"
      ]
     },
     "metadata": {
      "needs_background": "light"
     },
     "output_type": "display_data"
    }
   ],
   "source": [
    "sample.plot(['DAPI_1_cellMask', 'GFP.KP1.9_cellMask'], gates=[gfp_pos_gate, gfp_neg_gate]);"
   ]
  },
  {
   "cell_type": "code",
   "execution_count": 86,
   "id": "98bc9141-65f3-4fe2-a5dd-c6ed9304d278",
   "metadata": {},
   "outputs": [],
   "source": [
    "gfp_pos_gated_sample = sample.gate(gfp_pos_gate)\n",
    "gfp_neg_gated_sample = sample.gate(gfp_neg_gate)"
   ]
  },
  {
   "cell_type": "code",
   "execution_count": 87,
   "id": "60919e00-bba7-4c7e-b380-c9c522dde4a3",
   "metadata": {},
   "outputs": [
    {
     "data": {
      "text/plain": [
       "484"
      ]
     },
     "execution_count": 87,
     "metadata": {},
     "output_type": "execute_result"
    }
   ],
   "source": [
    "gfp_neg_gated_sample.counts"
   ]
  },
  {
   "cell_type": "markdown",
   "id": "34b1089d-d838-43b9-8068-80595ff66893",
   "metadata": {},
   "source": [
    "## GFP- Host"
   ]
  },
  {
   "cell_type": "code",
   "execution_count": 88,
   "id": "f13c0ac4-05ae-4a42-9c02-727a9b4d8fa2",
   "metadata": {},
   "outputs": [
    {
     "data": {
      "image/png": "[encoded data removed]",
      "text/plain": [
       "<Figure size 432x288 with 1 Axes>"
      ]
     },
     "metadata": {
      "needs_background": "light"
     },
     "output_type": "display_data"
    }
   ],
   "source": [
    "gfp_neg_gated_sample.plot(['CD45_cellMask', 'CD206_cellMask'], gates=[gfp_neg_cd45_pos_cd206_pos_gate]);"
   ]
  },
  {
   "cell_type": "code",
   "execution_count": 89,
   "id": "0a5ccb83-6675-4b7f-a9e0-8a52c0bea383",
   "metadata": {},
   "outputs": [],
   "source": [
    "gfp_neg_cd45_pos_cd206_pos_gated_sample = gfp_neg_gated_sample.gate(gfp_neg_cd45_pos_cd206_pos_gate)"
   ]
  },
  {
   "cell_type": "code",
   "execution_count": 90,
   "id": "e412e208-bf63-4304-a16b-f50b6d38053d",
   "metadata": {},
   "outputs": [
    {
     "data": {
      "text/plain": [
       "27"
      ]
     },
     "execution_count": 90,
     "metadata": {},
     "output_type": "execute_result"
    }
   ],
   "source": [
    "gfp_neg_cd45_pos_cd206_pos_gated_sample.counts"
   ]
  },
  {
   "cell_type": "code",
   "execution_count": 91,
   "id": "78cd3404-63cf-4cb5-a912-a9537cdf85d2",
   "metadata": {},
   "outputs": [
    {
     "data": {
      "image/png": "[encoded data removed]",
      "text/plain": [
       "<Figure size 432x288 with 1 Axes>"
      ]
     },
     "metadata": {
      "needs_background": "light"
     },
     "output_type": "display_data"
    }
   ],
   "source": [
    "gfp_neg_cd45_pos_cd206_pos_gated_sample.plot(['Arg1_cellMask', 'CD11c_cellMask'], gates=[gfp_neg_cd45_pos_cd206_pos_cd11c_pos_arg1_pos_gate]);"
   ]
  },
  {
   "cell_type": "code",
   "execution_count": 92,
   "id": "5045c94e-e03e-4b95-b932-19609d888fce",
   "metadata": {},
   "outputs": [],
   "source": [
    "gfp_neg_cd45_pos_cd206_pos_cd11c_pos_arg1_pos_gated_sample = gfp_neg_cd45_pos_cd206_pos_gated_sample.gate(gfp_neg_cd45_pos_cd206_pos_cd11c_pos_arg1_pos_gate)"
   ]
  },
  {
   "cell_type": "code",
   "execution_count": 93,
   "id": "85ed1a71-bd52-42be-8804-76e761b9a1fd",
   "metadata": {},
   "outputs": [
    {
     "data": {
      "text/plain": [
       "4"
      ]
     },
     "execution_count": 93,
     "metadata": {},
     "output_type": "execute_result"
    }
   ],
   "source": [
    "gfp_neg_cd45_pos_cd206_pos_cd11c_pos_arg1_pos_gated_sample.counts"
   ]
  },
  {
   "cell_type": "code",
   "execution_count": 94,
   "id": "f57c7569-9e21-423c-9b63-86f06d92f7b8",
   "metadata": {},
   "outputs": [
    {
     "data": {
      "image/png": "[encoded data removed]",
      "text/plain": [
       "<Figure size 432x288 with 1 Axes>"
      ]
     },
     "metadata": {
      "needs_background": "light"
     },
     "output_type": "display_data"
    }
   ],
   "source": [
    "gfp_neg_cd45_pos_cd206_pos_cd11c_pos_arg1_pos_gated_sample.plot(['C12.D.nanoparticle_cellMask', 'X7C1.F5.nanoparticle_cellMask']);"
   ]
  },
  {
   "cell_type": "markdown",
   "id": "124bf729-3f0d-49e8-8f76-339abfc379bc",
   "metadata": {},
   "source": [
    "## GFP+ Tumor"
   ]
  },
  {
   "cell_type": "code",
   "execution_count": 95,
   "id": "8506fdc1-d92c-45bd-b4df-df791019fbc6",
   "metadata": {},
   "outputs": [
    {
     "data": {
      "image/png": "[encoded data removed]",
      "text/plain": [
       "<Figure size 432x288 with 1 Axes>"
      ]
     },
     "metadata": {
      "needs_background": "light"
     },
     "output_type": "display_data"
    }
   ],
   "source": [
    "gfp_pos_gated_sample.plot(['CD45_cellMask', 'CD206_cellMask'], gates=[gfp_pos_cd45_neg_cd206_neg_gate]);"
   ]
  },
  {
   "cell_type": "code",
   "execution_count": 96,
   "id": "639c2963-6bd2-474d-b6d8-d3b4a891e3ab",
   "metadata": {},
   "outputs": [],
   "source": [
    "gfp_pos_cd45_neg_cd206_neg_gated_sample = gfp_pos_gated_sample.gate(gfp_pos_cd45_neg_cd206_neg_gate)"
   ]
  },
  {
   "cell_type": "code",
   "execution_count": 97,
   "id": "7aa2b194-0a1d-43c5-8ac1-f03758bf3a15",
   "metadata": {},
   "outputs": [
    {
     "data": {
      "text/plain": [
       "186"
      ]
     },
     "execution_count": 97,
     "metadata": {},
     "output_type": "execute_result"
    }
   ],
   "source": [
    "gfp_pos_cd45_neg_cd206_neg_gated_sample.counts"
   ]
  },
  {
   "cell_type": "code",
   "execution_count": 98,
   "id": "d52e2beb-4fb0-4e21-991f-f24c29dfc786",
   "metadata": {},
   "outputs": [
    {
     "data": {
      "image/png": "[encoded data removed]",
      "text/plain": [
       "<Figure size 432x288 with 1 Axes>"
      ]
     },
     "metadata": {
      "needs_background": "light"
     },
     "output_type": "display_data"
    }
   ],
   "source": [
    "gfp_pos_cd45_neg_cd206_neg_gated_sample.plot(['Arg1_cellMask', 'CD11c_cellMask'], gates=[gfp_pos_cd45_neg_cd206_neg_cd11c_neg_arg1_neg_gate]);"
   ]
  },
  {
   "cell_type": "code",
   "execution_count": 99,
   "id": "fa3b3324-d662-4e14-9dee-bd42fc6fbc3f",
   "metadata": {},
   "outputs": [],
   "source": [
    "gfp_pos_cd45_neg_cd206_neg_cd11c_neg_arg1_neg_gated_sample = gfp_pos_cd45_neg_cd206_neg_gated_sample.gate(gfp_pos_cd45_neg_cd206_neg_cd11c_neg_arg1_neg_gate)"
   ]
  },
  {
   "cell_type": "code",
   "execution_count": 100,
   "id": "4fe3f5d3-1e0e-47d1-98ca-0431eaddd8f9",
   "metadata": {},
   "outputs": [
    {
     "data": {
      "text/plain": [
       "17"
      ]
     },
     "execution_count": 100,
     "metadata": {},
     "output_type": "execute_result"
    }
   ],
   "source": [
    "gfp_pos_cd45_neg_cd206_neg_cd11c_neg_arg1_neg_gated_sample.counts"
   ]
  },
  {
   "cell_type": "code",
   "execution_count": 101,
   "id": "bc7fcab7-3e6a-480e-84bb-0f5478786493",
   "metadata": {},
   "outputs": [],
   "source": [
    "def classify_cells(sample, class_to_df):\n",
    "    df = pd.DataFrame(index=sample.get_data().index.values.tolist(), columns=[], data=[])\n",
    "    for cell_class_name, cell_class_sample in class_to_df.items():\n",
    "        cells = cell_class_sample.get_data().index.values.tolist()\n",
    "        df[cell_class_name] = df.index.to_series().apply(lambda i: i in cells)\n",
    "    \n",
    "    return df"
   ]
  },
  {
   "cell_type": "code",
   "execution_count": 102,
   "id": "2db7add3-60c7-45f3-9918-08f48ec3a738",
   "metadata": {},
   "outputs": [],
   "source": [
    "df = classify_cells(sample, {\n",
    "    \"GFP-\": gfp_neg_gated_sample,\n",
    "    \"GFP-/CD45+CD206+\": gfp_neg_cd45_pos_cd206_pos_gated_sample,\n",
    "    \"GFP-/CD45+CD206+/CD11c+Arg1+\": gfp_neg_cd45_pos_cd206_pos_cd11c_pos_arg1_pos_gated_sample,\n",
    "    \"GFP+\": gfp_pos_gated_sample,\n",
    "    \"GFP+/CD45-CD206-\": gfp_pos_cd45_neg_cd206_neg_gated_sample,\n",
    "    \"GFP+/CD45-CD206-/CD11c-Arg1-\": gfp_pos_cd45_neg_cd206_neg_cd11c_neg_arg1_neg_gated_sample,\n",
    "})\n",
    "\n",
    "df.to_csv(join(\"data\", sample_id, \"flowcore\", f\"{sample_id}.classes.csv\"), index=True)"
   ]
  },
  {
   "cell_type": "code",
   "execution_count": 103,
   "id": "0c846956-d157-4cba-a933-452a1bad6d78",
   "metadata": {},
   "outputs": [],
   "source": [
    "writer = pd.ExcelWriter(join(\"data\", sample_id, \"flowcore\", f\"{sample_id}.classes.xlsx\"))\n",
    "\n",
    "for col in df.columns.values.tolist():\n",
    "    sample.get_data().loc[df[col]].to_excel(writer, sheet_name=col.replace(\"/\", \" \"))\n",
    "\n",
    "writer.save()"
   ]
  },
  {
   "cell_type": "code",
   "execution_count": null,
   "id": "551afa77-e0ae-4564-a5e5-3705bc920be1",
   "metadata": {},
   "outputs": [],
   "source": []
  },
  {
   "cell_type": "code",
   "execution_count": null,
   "id": "e8b414f8-2acd-4449-b915-b7db9966aedd",
   "metadata": {},
   "outputs": [],
   "source": []
  }
 ],
 "metadata": {
  "kernelspec": {
   "display_name": "Python 3",
   "language": "python",
   "name": "python3"
  },
  "language_info": {
   "codemirror_mode": {
    "name": "ipython",
    "version": 3
   },
   "file_extension": ".py",
   "mimetype": "text/x-python",
   "name": "python",
   "nbconvert_exporter": "python",
   "pygments_lexer": "ipython3",
   "version": "3.8.8"
  }
 },
 "nbformat": 4,
 "nbformat_minor": 5
}
