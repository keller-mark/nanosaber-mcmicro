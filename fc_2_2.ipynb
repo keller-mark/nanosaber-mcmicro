{
 "cells": [
  {
   "cell_type": "code",
   "execution_count": 1,
   "id": "0f79c946-5dcb-424b-9b24-4bcb14a446ee",
   "metadata": {},
   "outputs": [],
   "source": [
    "from FlowCytometryTools import FCMeasurement, ThresholdGate, PolyGate\n",
    "from os.path import join\n",
    "from pylab import *\n",
    "import pandas as pd\n",
    "import numpy as np"
   ]
  },
  {
   "cell_type": "markdown",
   "id": "dacc809a-c884-4e50-8d42-83ee45c70c31",
   "metadata": {},
   "source": [
    "# Lung sample 2.2"
   ]
  },
  {
   "cell_type": "code",
   "execution_count": 2,
   "id": "cb7d710d-eb71-4eb5-ade2-a0ea21392370",
   "metadata": {},
   "outputs": [],
   "source": [
    "# https://eyurtsev.github.io/FlowCytometryTools/API/FlowCytometryTools.FCMeasurement.html#FlowCytometryTools.FCMeasurement"
   ]
  },
  {
   "cell_type": "code",
   "execution_count": 3,
   "id": "2a83e3b1-985b-4a1d-a4e7-9533b2152cf3",
   "metadata": {},
   "outputs": [],
   "source": [
    "sample_id = \"lung_2_2\""
   ]
  },
  {
   "cell_type": "code",
   "execution_count": 4,
   "id": "8b6b402b-68c9-436e-aee0-c70b234928a8",
   "metadata": {},
   "outputs": [],
   "source": [
    "fc_file = join(\"data\", sample_id, \"flowcore\", f\"{sample_id}.fcs\")\n",
    "sample = FCMeasurement(ID=sample_id, datafile=fc_file)"
   ]
  },
  {
   "cell_type": "code",
   "execution_count": 5,
   "id": "a358439e-850f-441d-b9d6-5bbb7ed769d2",
   "metadata": {},
   "outputs": [
    {
     "data": {
      "text/html": [
       "<div>\n",
       "<style scoped>\n",
       "    .dataframe tbody tr th:only-of-type {\n",
       "        vertical-align: middle;\n",
       "    }\n",
       "\n",
       "    .dataframe tbody tr th {\n",
       "        vertical-align: top;\n",
       "    }\n",
       "\n",
       "    .dataframe thead th {\n",
       "        text-align: right;\n",
       "    }\n",
       "</style>\n",
       "<table border=\"1\" class=\"dataframe\">\n",
       "  <thead>\n",
       "    <tr style=\"text-align: right;\">\n",
       "      <th></th>\n",
       "      <th>DAPI_1_cellMask</th>\n",
       "      <th>GFP.KP1.9_cellMask</th>\n",
       "      <th>CD206_cellMask</th>\n",
       "      <th>BODIPY630.NP_cellMask</th>\n",
       "      <th>DAPI_2_cellMask</th>\n",
       "      <th>Arg1_cellMask</th>\n",
       "      <th>CD11c_cellMask</th>\n",
       "      <th>CD45_cellMask</th>\n",
       "      <th>DAPI_3_cellMask</th>\n",
       "      <th>C12.D.nanoparticle_cellMask</th>\n",
       "      <th>...</th>\n",
       "      <th>Y_centroid</th>\n",
       "      <th>column_centroid</th>\n",
       "      <th>row_centroid</th>\n",
       "      <th>Area</th>\n",
       "      <th>MajorAxisLength</th>\n",
       "      <th>MinorAxisLength</th>\n",
       "      <th>Eccentricity</th>\n",
       "      <th>Solidity</th>\n",
       "      <th>Extent</th>\n",
       "      <th>Orientation</th>\n",
       "    </tr>\n",
       "  </thead>\n",
       "  <tbody>\n",
       "    <tr>\n",
       "      <th>0</th>\n",
       "      <td>5249.0</td>\n",
       "      <td>2699.0</td>\n",
       "      <td>3026.0</td>\n",
       "      <td>1936.0</td>\n",
       "      <td>0.0</td>\n",
       "      <td>0.0</td>\n",
       "      <td>0.0</td>\n",
       "      <td>0.0</td>\n",
       "      <td>6172.0</td>\n",
       "      <td>3714.0</td>\n",
       "      <td>...</td>\n",
       "      <td>4.266667</td>\n",
       "      <td>4.533333</td>\n",
       "      <td>4.266667</td>\n",
       "      <td>15.0</td>\n",
       "      <td>5.202077</td>\n",
       "      <td>3.766011</td>\n",
       "      <td>0.689859</td>\n",
       "      <td>1.0</td>\n",
       "      <td>0.750000</td>\n",
       "      <td>-1.193717</td>\n",
       "    </tr>\n",
       "    <tr>\n",
       "      <th>1</th>\n",
       "      <td>5249.0</td>\n",
       "      <td>2699.0</td>\n",
       "      <td>3026.0</td>\n",
       "      <td>1936.0</td>\n",
       "      <td>0.0</td>\n",
       "      <td>0.0</td>\n",
       "      <td>0.0</td>\n",
       "      <td>0.0</td>\n",
       "      <td>6172.0</td>\n",
       "      <td>3714.0</td>\n",
       "      <td>...</td>\n",
       "      <td>3.625000</td>\n",
       "      <td>15.000000</td>\n",
       "      <td>3.625000</td>\n",
       "      <td>8.0</td>\n",
       "      <td>4.898980</td>\n",
       "      <td>1.936492</td>\n",
       "      <td>0.918559</td>\n",
       "      <td>1.0</td>\n",
       "      <td>0.800000</td>\n",
       "      <td>1.570796</td>\n",
       "    </tr>\n",
       "    <tr>\n",
       "      <th>2</th>\n",
       "      <td>5249.0</td>\n",
       "      <td>2699.0</td>\n",
       "      <td>3026.0</td>\n",
       "      <td>1936.0</td>\n",
       "      <td>0.0</td>\n",
       "      <td>0.0</td>\n",
       "      <td>0.0</td>\n",
       "      <td>0.0</td>\n",
       "      <td>6172.0</td>\n",
       "      <td>3714.0</td>\n",
       "      <td>...</td>\n",
       "      <td>3.500000</td>\n",
       "      <td>26.000000</td>\n",
       "      <td>3.500000</td>\n",
       "      <td>2.0</td>\n",
       "      <td>2.000000</td>\n",
       "      <td>0.000000</td>\n",
       "      <td>1.000000</td>\n",
       "      <td>1.0</td>\n",
       "      <td>1.000000</td>\n",
       "      <td>0.000000</td>\n",
       "    </tr>\n",
       "    <tr>\n",
       "      <th>3</th>\n",
       "      <td>5249.0</td>\n",
       "      <td>2699.0</td>\n",
       "      <td>3026.0</td>\n",
       "      <td>1936.0</td>\n",
       "      <td>0.0</td>\n",
       "      <td>0.0</td>\n",
       "      <td>0.0</td>\n",
       "      <td>0.0</td>\n",
       "      <td>6172.0</td>\n",
       "      <td>3714.0</td>\n",
       "      <td>...</td>\n",
       "      <td>3.000000</td>\n",
       "      <td>41.500000</td>\n",
       "      <td>3.000000</td>\n",
       "      <td>2.0</td>\n",
       "      <td>2.000000</td>\n",
       "      <td>0.000000</td>\n",
       "      <td>1.000000</td>\n",
       "      <td>1.0</td>\n",
       "      <td>1.000000</td>\n",
       "      <td>1.570796</td>\n",
       "    </tr>\n",
       "    <tr>\n",
       "      <th>4</th>\n",
       "      <td>5249.0</td>\n",
       "      <td>2699.0</td>\n",
       "      <td>3026.0</td>\n",
       "      <td>1936.0</td>\n",
       "      <td>0.0</td>\n",
       "      <td>0.0</td>\n",
       "      <td>0.0</td>\n",
       "      <td>0.0</td>\n",
       "      <td>6172.0</td>\n",
       "      <td>3714.0</td>\n",
       "      <td>...</td>\n",
       "      <td>3.000000</td>\n",
       "      <td>47.000000</td>\n",
       "      <td>3.000000</td>\n",
       "      <td>1.0</td>\n",
       "      <td>0.000000</td>\n",
       "      <td>0.000000</td>\n",
       "      <td>0.000000</td>\n",
       "      <td>1.0</td>\n",
       "      <td>1.000000</td>\n",
       "      <td>0.785398</td>\n",
       "    </tr>\n",
       "    <tr>\n",
       "      <th>...</th>\n",
       "      <td>...</td>\n",
       "      <td>...</td>\n",
       "      <td>...</td>\n",
       "      <td>...</td>\n",
       "      <td>...</td>\n",
       "      <td>...</td>\n",
       "      <td>...</td>\n",
       "      <td>...</td>\n",
       "      <td>...</td>\n",
       "      <td>...</td>\n",
       "      <td>...</td>\n",
       "      <td>...</td>\n",
       "      <td>...</td>\n",
       "      <td>...</td>\n",
       "      <td>...</td>\n",
       "      <td>...</td>\n",
       "      <td>...</td>\n",
       "      <td>...</td>\n",
       "      <td>...</td>\n",
       "      <td>...</td>\n",
       "      <td>...</td>\n",
       "    </tr>\n",
       "    <tr>\n",
       "      <th>2926</th>\n",
       "      <td>5249.0</td>\n",
       "      <td>2699.0</td>\n",
       "      <td>3026.0</td>\n",
       "      <td>1936.0</td>\n",
       "      <td>0.0</td>\n",
       "      <td>0.0</td>\n",
       "      <td>0.0</td>\n",
       "      <td>250.0</td>\n",
       "      <td>6172.0</td>\n",
       "      <td>3714.0</td>\n",
       "      <td>...</td>\n",
       "      <td>555.000000</td>\n",
       "      <td>3.000000</td>\n",
       "      <td>555.000000</td>\n",
       "      <td>1.0</td>\n",
       "      <td>0.000000</td>\n",
       "      <td>0.000000</td>\n",
       "      <td>0.000000</td>\n",
       "      <td>1.0</td>\n",
       "      <td>1.000000</td>\n",
       "      <td>0.785398</td>\n",
       "    </tr>\n",
       "    <tr>\n",
       "      <th>2927</th>\n",
       "      <td>18240.0</td>\n",
       "      <td>6052.0</td>\n",
       "      <td>18501.0</td>\n",
       "      <td>6997.0</td>\n",
       "      <td>0.0</td>\n",
       "      <td>0.0</td>\n",
       "      <td>0.0</td>\n",
       "      <td>0.0</td>\n",
       "      <td>19261.0</td>\n",
       "      <td>14877.0</td>\n",
       "      <td>...</td>\n",
       "      <td>555.000000</td>\n",
       "      <td>511.000000</td>\n",
       "      <td>555.000000</td>\n",
       "      <td>1.0</td>\n",
       "      <td>0.000000</td>\n",
       "      <td>0.000000</td>\n",
       "      <td>0.000000</td>\n",
       "      <td>1.0</td>\n",
       "      <td>1.000000</td>\n",
       "      <td>0.785398</td>\n",
       "    </tr>\n",
       "    <tr>\n",
       "      <th>2928</th>\n",
       "      <td>5249.0</td>\n",
       "      <td>2699.0</td>\n",
       "      <td>3026.0</td>\n",
       "      <td>1936.0</td>\n",
       "      <td>0.0</td>\n",
       "      <td>0.0</td>\n",
       "      <td>0.0</td>\n",
       "      <td>0.0</td>\n",
       "      <td>6172.0</td>\n",
       "      <td>3714.0</td>\n",
       "      <td>...</td>\n",
       "      <td>560.000000</td>\n",
       "      <td>3.000000</td>\n",
       "      <td>560.000000</td>\n",
       "      <td>1.0</td>\n",
       "      <td>0.000000</td>\n",
       "      <td>0.000000</td>\n",
       "      <td>0.000000</td>\n",
       "      <td>1.0</td>\n",
       "      <td>1.000000</td>\n",
       "      <td>0.785398</td>\n",
       "    </tr>\n",
       "    <tr>\n",
       "      <th>2929</th>\n",
       "      <td>5249.0</td>\n",
       "      <td>2699.0</td>\n",
       "      <td>3026.0</td>\n",
       "      <td>1936.0</td>\n",
       "      <td>0.0</td>\n",
       "      <td>0.0</td>\n",
       "      <td>0.0</td>\n",
       "      <td>0.0</td>\n",
       "      <td>6172.0</td>\n",
       "      <td>3714.0</td>\n",
       "      <td>...</td>\n",
       "      <td>571.599976</td>\n",
       "      <td>3.800000</td>\n",
       "      <td>571.599976</td>\n",
       "      <td>5.0</td>\n",
       "      <td>3.098387</td>\n",
       "      <td>1.788854</td>\n",
       "      <td>0.816497</td>\n",
       "      <td>1.0</td>\n",
       "      <td>0.833333</td>\n",
       "      <td>1.249046</td>\n",
       "    </tr>\n",
       "    <tr>\n",
       "      <th>2930</th>\n",
       "      <td>5249.0</td>\n",
       "      <td>2699.0</td>\n",
       "      <td>3026.0</td>\n",
       "      <td>1936.0</td>\n",
       "      <td>0.0</td>\n",
       "      <td>0.0</td>\n",
       "      <td>0.0</td>\n",
       "      <td>0.0</td>\n",
       "      <td>6172.0</td>\n",
       "      <td>3714.0</td>\n",
       "      <td>...</td>\n",
       "      <td>572.599976</td>\n",
       "      <td>589.799988</td>\n",
       "      <td>572.599976</td>\n",
       "      <td>5.0</td>\n",
       "      <td>3.098387</td>\n",
       "      <td>1.788854</td>\n",
       "      <td>0.816497</td>\n",
       "      <td>1.0</td>\n",
       "      <td>0.833333</td>\n",
       "      <td>1.249046</td>\n",
       "    </tr>\n",
       "  </tbody>\n",
       "</table>\n",
       "<p>2931 rows × 23 columns</p>\n",
       "</div>"
      ],
      "text/plain": [
       "      DAPI_1_cellMask  GFP.KP1.9_cellMask  CD206_cellMask  \\\n",
       "0              5249.0              2699.0          3026.0   \n",
       "1              5249.0              2699.0          3026.0   \n",
       "2              5249.0              2699.0          3026.0   \n",
       "3              5249.0              2699.0          3026.0   \n",
       "4              5249.0              2699.0          3026.0   \n",
       "...               ...                 ...             ...   \n",
       "2926           5249.0              2699.0          3026.0   \n",
       "2927          18240.0              6052.0         18501.0   \n",
       "2928           5249.0              2699.0          3026.0   \n",
       "2929           5249.0              2699.0          3026.0   \n",
       "2930           5249.0              2699.0          3026.0   \n",
       "\n",
       "      BODIPY630.NP_cellMask  DAPI_2_cellMask  Arg1_cellMask  CD11c_cellMask  \\\n",
       "0                    1936.0              0.0            0.0             0.0   \n",
       "1                    1936.0              0.0            0.0             0.0   \n",
       "2                    1936.0              0.0            0.0             0.0   \n",
       "3                    1936.0              0.0            0.0             0.0   \n",
       "4                    1936.0              0.0            0.0             0.0   \n",
       "...                     ...              ...            ...             ...   \n",
       "2926                 1936.0              0.0            0.0             0.0   \n",
       "2927                 6997.0              0.0            0.0             0.0   \n",
       "2928                 1936.0              0.0            0.0             0.0   \n",
       "2929                 1936.0              0.0            0.0             0.0   \n",
       "2930                 1936.0              0.0            0.0             0.0   \n",
       "\n",
       "      CD45_cellMask  DAPI_3_cellMask  C12.D.nanoparticle_cellMask  ...  \\\n",
       "0               0.0           6172.0                       3714.0  ...   \n",
       "1               0.0           6172.0                       3714.0  ...   \n",
       "2               0.0           6172.0                       3714.0  ...   \n",
       "3               0.0           6172.0                       3714.0  ...   \n",
       "4               0.0           6172.0                       3714.0  ...   \n",
       "...             ...              ...                          ...  ...   \n",
       "2926          250.0           6172.0                       3714.0  ...   \n",
       "2927            0.0          19261.0                      14877.0  ...   \n",
       "2928            0.0           6172.0                       3714.0  ...   \n",
       "2929            0.0           6172.0                       3714.0  ...   \n",
       "2930            0.0           6172.0                       3714.0  ...   \n",
       "\n",
       "      Y_centroid  column_centroid  row_centroid  Area  MajorAxisLength  \\\n",
       "0       4.266667         4.533333      4.266667  15.0         5.202077   \n",
       "1       3.625000        15.000000      3.625000   8.0         4.898980   \n",
       "2       3.500000        26.000000      3.500000   2.0         2.000000   \n",
       "3       3.000000        41.500000      3.000000   2.0         2.000000   \n",
       "4       3.000000        47.000000      3.000000   1.0         0.000000   \n",
       "...          ...              ...           ...   ...              ...   \n",
       "2926  555.000000         3.000000    555.000000   1.0         0.000000   \n",
       "2927  555.000000       511.000000    555.000000   1.0         0.000000   \n",
       "2928  560.000000         3.000000    560.000000   1.0         0.000000   \n",
       "2929  571.599976         3.800000    571.599976   5.0         3.098387   \n",
       "2930  572.599976       589.799988    572.599976   5.0         3.098387   \n",
       "\n",
       "      MinorAxisLength  Eccentricity  Solidity    Extent  Orientation  \n",
       "0            3.766011      0.689859       1.0  0.750000    -1.193717  \n",
       "1            1.936492      0.918559       1.0  0.800000     1.570796  \n",
       "2            0.000000      1.000000       1.0  1.000000     0.000000  \n",
       "3            0.000000      1.000000       1.0  1.000000     1.570796  \n",
       "4            0.000000      0.000000       1.0  1.000000     0.785398  \n",
       "...               ...           ...       ...       ...          ...  \n",
       "2926         0.000000      0.000000       1.0  1.000000     0.785398  \n",
       "2927         0.000000      0.000000       1.0  1.000000     0.785398  \n",
       "2928         0.000000      0.000000       1.0  1.000000     0.785398  \n",
       "2929         1.788854      0.816497       1.0  0.833333     1.249046  \n",
       "2930         1.788854      0.816497       1.0  0.833333     1.249046  \n",
       "\n",
       "[2931 rows x 23 columns]"
      ]
     },
     "execution_count": 5,
     "metadata": {},
     "output_type": "execute_result"
    }
   ],
   "source": [
    "sample.get_data()"
   ]
  },
  {
   "cell_type": "code",
   "execution_count": 6,
   "id": "1b50257c-f184-4f97-ad5d-d320f8f14a23",
   "metadata": {},
   "outputs": [
    {
     "name": "stdout",
     "output_type": "stream",
     "text": [
      "('DAPI_1_cellMask', 'GFP.KP1.9_cellMask', 'CD206_cellMask', 'BODIPY630.NP_cellMask', 'DAPI_2_cellMask', 'Arg1_cellMask', 'CD11c_cellMask', 'CD45_cellMask', 'DAPI_3_cellMask', 'C12.D.nanoparticle_cellMask', 'X7C1.F5.nanoparticle_cellMask', 'G0.P5.nanoparticle_cellMask', 'X_centroid', 'Y_centroid', 'column_centroid', 'row_centroid', 'Area', 'MajorAxisLength', 'MinorAxisLength', 'Eccentricity', 'Solidity', 'Extent', 'Orientation')\n"
     ]
    }
   ],
   "source": [
    "print(sample.channel_names)"
   ]
  },
  {
   "cell_type": "code",
   "execution_count": 7,
   "id": "d46446a1-77e1-4f8e-aa1d-7aceea1dade9",
   "metadata": {},
   "outputs": [],
   "source": [
    "tsample = sample.transform('hlog', channels=['DAPI_1_cellMask'], b=500.0)"
   ]
  },
  {
   "cell_type": "code",
   "execution_count": 65,
   "id": "7c10f49e-5009-4c7a-8b7f-87470f256743",
   "metadata": {},
   "outputs": [],
   "source": [
    "gfp_pos_gate = PolyGate([(20000, 16000), (62000, 16000), (62000, 50000), (20000, 50000)], channels=['DAPI_1_cellMask', 'GFP.KP1.9_cellMask'], region='in', name='GFP+ Tumor')\n",
    "gfp_neg_gate = PolyGate([(20000, 0), (60000, 0), (60000, 9000), (20000, 9000)], channels=['DAPI_1_cellMask', 'GFP.KP1.9_cellMask'], region='in', name='GFP- Host')\n",
    "\n",
    "# Host (slide 1)\n",
    "gfp_neg_cd45_pos_cd206_pos_gate = PolyGate([(190, 15000), (400, 15000), (400, 30000), (190, 30000)], channels=['CD45_cellMask', 'CD206_cellMask'], region='in', name='CD45+CD206+')\n",
    "gfp_neg_cd45_pos_cd206_pos_cd11c_pos_arg1_pos_gate = PolyGate([(580, 380), (1200, 380), (1200, 700), (580, 700)], channels=['Arg1_cellMask', 'CD11c_cellMask'], region='in', name='CD11c+Arg1+')\n",
    "\n",
    "# Tumor (slide 2)\n",
    "gfp_pos_cd45_neg_cd206_neg_gate = PolyGate([(0, 0), (7000, 0), (7000, 13750), (0, 13750)], channels=['CD45_cellMask', 'CD206_cellMask'], region='in', name='CD45-CD206-')\n",
    "gfp_pos_cd45_neg_cd206_neg_cd11c_neg_arg1_neg_gate = PolyGate([(0, 0), (450, 0), (450, 350), (0, 350)], channels=['Arg1_cellMask', 'CD11c_cellMask'], region='in', name='CD11c-Arg1-')"
   ]
  },
  {
   "cell_type": "code",
   "execution_count": 66,
   "id": "d6a02236-b9e3-4dcc-a3dc-93d1c219d4e5",
   "metadata": {},
   "outputs": [
    {
     "data": {
      "text/plain": [
       "<Figure size 432x288 with 0 Axes>"
      ]
     },
     "metadata": {},
     "output_type": "display_data"
    }
   ],
   "source": [
    "figure();"
   ]
  },
  {
   "cell_type": "code",
   "execution_count": 67,
   "id": "5fe31728-71ea-401e-af46-255bd74bd924",
   "metadata": {},
   "outputs": [
    {
     "data": {
      "image/png": "[encoded data removed]",
      "text/plain": [
       "<Figure size 432x288 with 1 Axes>"
      ]
     },
     "metadata": {
      "needs_background": "light"
     },
     "output_type": "display_data"
    }
   ],
   "source": [
    "sample.plot(['DAPI_1_cellMask', 'GFP.KP1.9_cellMask'], gates=[gfp_pos_gate, gfp_neg_gate]);"
   ]
  },
  {
   "cell_type": "code",
   "execution_count": 68,
   "id": "98bc9141-65f3-4fe2-a5dd-c6ed9304d278",
   "metadata": {},
   "outputs": [],
   "source": [
    "gfp_pos_gated_sample = sample.gate(gfp_pos_gate)\n",
    "gfp_neg_gated_sample = sample.gate(gfp_neg_gate)"
   ]
  },
  {
   "cell_type": "code",
   "execution_count": 69,
   "id": "60919e00-bba7-4c7e-b380-c9c522dde4a3",
   "metadata": {},
   "outputs": [
    {
     "data": {
      "text/plain": [
       "501"
      ]
     },
     "execution_count": 69,
     "metadata": {},
     "output_type": "execute_result"
    }
   ],
   "source": [
    "gfp_neg_gated_sample.counts"
   ]
  },
  {
   "cell_type": "markdown",
   "id": "34b1089d-d838-43b9-8068-80595ff66893",
   "metadata": {},
   "source": [
    "## GFP- Host"
   ]
  },
  {
   "cell_type": "code",
   "execution_count": 70,
   "id": "f13c0ac4-05ae-4a42-9c02-727a9b4d8fa2",
   "metadata": {},
   "outputs": [
    {
     "data": {
      "image/png": "[encoded data removed]",
      "text/plain": [
       "<Figure size 432x288 with 1 Axes>"
      ]
     },
     "metadata": {
      "needs_background": "light"
     },
     "output_type": "display_data"
    }
   ],
   "source": [
    "gfp_neg_gated_sample.plot(['CD45_cellMask', 'CD206_cellMask'], gates=[gfp_neg_cd45_pos_cd206_pos_gate]);"
   ]
  },
  {
   "cell_type": "code",
   "execution_count": 71,
   "id": "0a5ccb83-6675-4b7f-a9e0-8a52c0bea383",
   "metadata": {},
   "outputs": [],
   "source": [
    "gfp_neg_cd45_pos_cd206_pos_gated_sample = gfp_neg_gated_sample.gate(gfp_neg_cd45_pos_cd206_pos_gate)"
   ]
  },
  {
   "cell_type": "code",
   "execution_count": 72,
   "id": "e412e208-bf63-4304-a16b-f50b6d38053d",
   "metadata": {},
   "outputs": [
    {
     "data": {
      "text/plain": [
       "176"
      ]
     },
     "execution_count": 72,
     "metadata": {},
     "output_type": "execute_result"
    }
   ],
   "source": [
    "gfp_neg_cd45_pos_cd206_pos_gated_sample.counts"
   ]
  },
  {
   "cell_type": "code",
   "execution_count": 73,
   "id": "78cd3404-63cf-4cb5-a912-a9537cdf85d2",
   "metadata": {},
   "outputs": [
    {
     "data": {
      "image/png": "[encoded data removed]",
      "text/plain": [
       "<Figure size 432x288 with 1 Axes>"
      ]
     },
     "metadata": {
      "needs_background": "light"
     },
     "output_type": "display_data"
    }
   ],
   "source": [
    "gfp_neg_cd45_pos_cd206_pos_gated_sample.plot(['Arg1_cellMask', 'CD11c_cellMask'], gates=[gfp_neg_cd45_pos_cd206_pos_cd11c_pos_arg1_pos_gate]);"
   ]
  },
  {
   "cell_type": "code",
   "execution_count": 74,
   "id": "5045c94e-e03e-4b95-b932-19609d888fce",
   "metadata": {},
   "outputs": [],
   "source": [
    "gfp_neg_cd45_pos_cd206_pos_cd11c_pos_arg1_pos_gated_sample = gfp_neg_cd45_pos_cd206_pos_gated_sample.gate(gfp_neg_cd45_pos_cd206_pos_cd11c_pos_arg1_pos_gate)"
   ]
  },
  {
   "cell_type": "code",
   "execution_count": 75,
   "id": "85ed1a71-bd52-42be-8804-76e761b9a1fd",
   "metadata": {},
   "outputs": [
    {
     "data": {
      "text/plain": [
       "49"
      ]
     },
     "execution_count": 75,
     "metadata": {},
     "output_type": "execute_result"
    }
   ],
   "source": [
    "gfp_neg_cd45_pos_cd206_pos_cd11c_pos_arg1_pos_gated_sample.counts"
   ]
  },
  {
   "cell_type": "code",
   "execution_count": 76,
   "id": "f57c7569-9e21-423c-9b63-86f06d92f7b8",
   "metadata": {},
   "outputs": [
    {
     "data": {
      "image/png": "[encoded data removed]",
      "text/plain": [
       "<Figure size 432x288 with 1 Axes>"
      ]
     },
     "metadata": {
      "needs_background": "light"
     },
     "output_type": "display_data"
    }
   ],
   "source": [
    "gfp_neg_cd45_pos_cd206_pos_cd11c_pos_arg1_pos_gated_sample.plot(['C12.D.nanoparticle_cellMask', 'X7C1.F5.nanoparticle_cellMask']);"
   ]
  },
  {
   "cell_type": "markdown",
   "id": "124bf729-3f0d-49e8-8f76-339abfc379bc",
   "metadata": {},
   "source": [
    "## GFP+ Tumor"
   ]
  },
  {
   "cell_type": "code",
   "execution_count": 77,
   "id": "8506fdc1-d92c-45bd-b4df-df791019fbc6",
   "metadata": {},
   "outputs": [
    {
     "data": {
      "image/png": "[encoded data removed]",
      "text/plain": [
       "<Figure size 432x288 with 1 Axes>"
      ]
     },
     "metadata": {
      "needs_background": "light"
     },
     "output_type": "display_data"
    }
   ],
   "source": [
    "gfp_pos_gated_sample.plot(['CD45_cellMask', 'CD206_cellMask'], gates=[gfp_pos_cd45_neg_cd206_neg_gate]);"
   ]
  },
  {
   "cell_type": "code",
   "execution_count": 78,
   "id": "639c2963-6bd2-474d-b6d8-d3b4a891e3ab",
   "metadata": {},
   "outputs": [],
   "source": [
    "gfp_pos_cd45_neg_cd206_neg_gated_sample = gfp_pos_gated_sample.gate(gfp_pos_cd45_neg_cd206_neg_gate)"
   ]
  },
  {
   "cell_type": "code",
   "execution_count": 79,
   "id": "7aa2b194-0a1d-43c5-8ac1-f03758bf3a15",
   "metadata": {},
   "outputs": [
    {
     "data": {
      "text/plain": [
       "565"
      ]
     },
     "execution_count": 79,
     "metadata": {},
     "output_type": "execute_result"
    }
   ],
   "source": [
    "gfp_pos_cd45_neg_cd206_neg_gated_sample.counts"
   ]
  },
  {
   "cell_type": "code",
   "execution_count": 80,
   "id": "d52e2beb-4fb0-4e21-991f-f24c29dfc786",
   "metadata": {},
   "outputs": [
    {
     "data": {
      "image/png": "[encoded data removed]",
      "text/plain": [
       "<Figure size 432x288 with 1 Axes>"
      ]
     },
     "metadata": {
      "needs_background": "light"
     },
     "output_type": "display_data"
    }
   ],
   "source": [
    "gfp_pos_cd45_neg_cd206_neg_gated_sample.plot(['Arg1_cellMask', 'CD11c_cellMask'], gates=[gfp_pos_cd45_neg_cd206_neg_cd11c_neg_arg1_neg_gate]);"
   ]
  },
  {
   "cell_type": "code",
   "execution_count": 81,
   "id": "fa3b3324-d662-4e14-9dee-bd42fc6fbc3f",
   "metadata": {},
   "outputs": [],
   "source": [
    "gfp_pos_cd45_neg_cd206_neg_cd11c_neg_arg1_neg_gated_sample = gfp_pos_cd45_neg_cd206_neg_gated_sample.gate(gfp_pos_cd45_neg_cd206_neg_cd11c_neg_arg1_neg_gate)"
   ]
  },
  {
   "cell_type": "code",
   "execution_count": 82,
   "id": "4fe3f5d3-1e0e-47d1-98ca-0431eaddd8f9",
   "metadata": {},
   "outputs": [
    {
     "data": {
      "text/plain": [
       "370"
      ]
     },
     "execution_count": 82,
     "metadata": {},
     "output_type": "execute_result"
    }
   ],
   "source": [
    "gfp_pos_cd45_neg_cd206_neg_cd11c_neg_arg1_neg_gated_sample.counts"
   ]
  },
  {
   "cell_type": "code",
   "execution_count": 83,
   "id": "bc7fcab7-3e6a-480e-84bb-0f5478786493",
   "metadata": {},
   "outputs": [],
   "source": [
    "def classify_cells(sample, class_to_df):\n",
    "    df = pd.DataFrame(index=sample.get_data().index.values.tolist(), columns=[], data=[])\n",
    "    for cell_class_name, cell_class_sample in class_to_df.items():\n",
    "        cells = cell_class_sample.get_data().index.values.tolist()\n",
    "        df[cell_class_name] = df.index.to_series().apply(lambda i: i in cells)\n",
    "    \n",
    "    return df"
   ]
  },
  {
   "cell_type": "code",
   "execution_count": 84,
   "id": "2db7add3-60c7-45f3-9918-08f48ec3a738",
   "metadata": {},
   "outputs": [],
   "source": [
    "df = classify_cells(sample, {\n",
    "    \"GFP-\": gfp_neg_gated_sample,\n",
    "    \"GFP-/CD45+CD206+\": gfp_neg_cd45_pos_cd206_pos_gated_sample,\n",
    "    \"GFP-/CD45+CD206+/CD11c+Arg1+\": gfp_neg_cd45_pos_cd206_pos_cd11c_pos_arg1_pos_gated_sample,\n",
    "    \"GFP+\": gfp_pos_gated_sample,\n",
    "    \"GFP+/CD45-CD206-\": gfp_pos_cd45_neg_cd206_neg_gated_sample,\n",
    "    \"GFP+/CD45-CD206-/CD11c-Arg1-\": gfp_pos_cd45_neg_cd206_neg_cd11c_neg_arg1_neg_gated_sample,\n",
    "})\n",
    "\n",
    "df.to_csv(join(\"data\", sample_id, \"flowcore\", f\"{sample_id}.classes.csv\"), index=True)"
   ]
  },
  {
   "cell_type": "code",
   "execution_count": 85,
   "id": "0c846956-d157-4cba-a933-452a1bad6d78",
   "metadata": {},
   "outputs": [],
   "source": [
    "writer = pd.ExcelWriter(join(\"data\", sample_id, \"flowcore\", f\"{sample_id}.classes.xlsx\"))\n",
    "\n",
    "for col in df.columns.values.tolist():\n",
    "    sample.get_data().loc[df[col]].to_excel(writer, sheet_name=col.replace(\"/\", \" \"))\n",
    "\n",
    "writer.save()"
   ]
  },
  {
   "cell_type": "code",
   "execution_count": null,
   "id": "551afa77-e0ae-4564-a5e5-3705bc920be1",
   "metadata": {},
   "outputs": [],
   "source": []
  },
  {
   "cell_type": "code",
   "execution_count": null,
   "id": "e8b414f8-2acd-4449-b915-b7db9966aedd",
   "metadata": {},
   "outputs": [],
   "source": []
  }
 ],
 "metadata": {
  "kernelspec": {
   "display_name": "Python 3",
   "language": "python",
   "name": "python3"
  },
  "language_info": {
   "codemirror_mode": {
    "name": "ipython",
    "version": 3
   },
   "file_extension": ".py",
   "mimetype": "text/x-python",
   "name": "python",
   "nbconvert_exporter": "python",
   "pygments_lexer": "ipython3",
   "version": "3.8.8"
  }
 },
 "nbformat": 4,
 "nbformat_minor": 5
}
