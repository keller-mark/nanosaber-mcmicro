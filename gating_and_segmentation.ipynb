{
 "cells": [
  {
   "cell_type": "code",
   "execution_count": 1,
   "id": "0f79c946-5dcb-424b-9b24-4bcb14a446ee",
   "metadata": {},
   "outputs": [],
   "source": [
    "from FlowCytometryTools import FCMeasurement, ThresholdGate, PolyGate, IntervalGate\n",
    "from os.path import join\n",
    "from pylab import *\n",
    "import pandas as pd\n",
    "import numpy as np\n",
    "import itertools\n",
    "import json"
   ]
  },
  {
   "cell_type": "code",
   "execution_count": 2,
   "id": "c18be501-d7b8-4853-977c-e9e668ef76ee",
   "metadata": {},
   "outputs": [],
   "source": [
    "from anndata import AnnData\n",
    "import os\n",
    "from tifffile import imread, imwrite"
   ]
  },
  {
   "cell_type": "code",
   "execution_count": 3,
   "id": "a04950b9-717e-4b65-a62c-118cad3d0414",
   "metadata": {},
   "outputs": [],
   "source": [
    "import altair as alt\n",
    "from altair_saver import save as alt_save"
   ]
  },
  {
   "cell_type": "code",
   "execution_count": 4,
   "id": "4794078a-19b8-4dd1-ba4c-260f136350c2",
   "metadata": {},
   "outputs": [],
   "source": [
    "alt.data_transformers.disable_max_rows(); # Allow using rows more than 5000"
   ]
  },
  {
   "cell_type": "markdown",
   "id": "dacc809a-c884-4e50-8d42-83ee45c70c31",
   "metadata": {},
   "source": [
    "# Lung sample 2.1"
   ]
  },
  {
   "cell_type": "code",
   "execution_count": 11,
   "id": "cb7d710d-eb71-4eb5-ade2-a0ea21392370",
   "metadata": {},
   "outputs": [],
   "source": [
    "# https://eyurtsev.github.io/FlowCytometryTools/API/FlowCytometryTools.FCMeasurement.html#FlowCytometryTools.FCMeasurement"
   ]
  },
  {
   "cell_type": "code",
   "execution_count": 12,
   "id": "2a83e3b1-985b-4a1d-a4e7-9533b2152cf3",
   "metadata": {},
   "outputs": [],
   "source": [
    "sample_id = \"lung_2_1\""
   ]
  },
  {
   "cell_type": "code",
   "execution_count": 13,
   "id": "8b6b402b-68c9-436e-aee0-c70b234928a8",
   "metadata": {},
   "outputs": [],
   "source": [
    "fc_file = join(\"data\", sample_id, \"flowcore\", f\"{sample_id}.fcs\")\n",
    "sample = FCMeasurement(ID=sample_id, datafile=fc_file)"
   ]
  },
  {
   "cell_type": "code",
   "execution_count": 14,
   "id": "a358439e-850f-441d-b9d6-5bbb7ed769d2",
   "metadata": {},
   "outputs": [
    {
     "data": {
      "text/html": [
       "<div>\n",
       "<style scoped>\n",
       "    .dataframe tbody tr th:only-of-type {\n",
       "        vertical-align: middle;\n",
       "    }\n",
       "\n",
       "    .dataframe tbody tr th {\n",
       "        vertical-align: top;\n",
       "    }\n",
       "\n",
       "    .dataframe thead th {\n",
       "        text-align: right;\n",
       "    }\n",
       "</style>\n",
       "<table border=\"1\" class=\"dataframe\">\n",
       "  <thead>\n",
       "    <tr style=\"text-align: right;\">\n",
       "      <th></th>\n",
       "      <th>DAPI_1_cellMask</th>\n",
       "      <th>GFP.KP1.9_cellMask</th>\n",
       "      <th>CD206_cellMask</th>\n",
       "      <th>BODIPY630.NP_cellMask</th>\n",
       "      <th>DAPI_2_cellMask</th>\n",
       "      <th>Arg1_cellMask</th>\n",
       "      <th>CD11c_cellMask</th>\n",
       "      <th>CD45_cellMask</th>\n",
       "      <th>DAPI_3_cellMask</th>\n",
       "      <th>C12.D.nanoparticle_cellMask</th>\n",
       "      <th>...</th>\n",
       "      <th>Y_centroid</th>\n",
       "      <th>column_centroid</th>\n",
       "      <th>row_centroid</th>\n",
       "      <th>Area</th>\n",
       "      <th>MajorAxisLength</th>\n",
       "      <th>MinorAxisLength</th>\n",
       "      <th>Eccentricity</th>\n",
       "      <th>Solidity</th>\n",
       "      <th>Extent</th>\n",
       "      <th>Orientation</th>\n",
       "    </tr>\n",
       "  </thead>\n",
       "  <tbody>\n",
       "    <tr>\n",
       "      <th>0</th>\n",
       "      <td>27958.554688</td>\n",
       "      <td>3295.222168</td>\n",
       "      <td>15162.777344</td>\n",
       "      <td>65415.890625</td>\n",
       "      <td>6190.000000</td>\n",
       "      <td>2957.000000</td>\n",
       "      <td>2229.000000</td>\n",
       "      <td>1074.000000</td>\n",
       "      <td>5538.000000</td>\n",
       "      <td>3251.000000</td>\n",
       "      <td>...</td>\n",
       "      <td>3.333333</td>\n",
       "      <td>61.444443</td>\n",
       "      <td>3.333333</td>\n",
       "      <td>9.0</td>\n",
       "      <td>4.277663</td>\n",
       "      <td>2.643019</td>\n",
       "      <td>0.786284</td>\n",
       "      <td>0.900000</td>\n",
       "      <td>0.750000</td>\n",
       "      <td>1.465250</td>\n",
       "    </tr>\n",
       "    <tr>\n",
       "      <th>1</th>\n",
       "      <td>27643.666016</td>\n",
       "      <td>3163.666748</td>\n",
       "      <td>6108.000000</td>\n",
       "      <td>5068.000000</td>\n",
       "      <td>6190.000000</td>\n",
       "      <td>2957.000000</td>\n",
       "      <td>2229.000000</td>\n",
       "      <td>1074.000000</td>\n",
       "      <td>5538.000000</td>\n",
       "      <td>3251.000000</td>\n",
       "      <td>...</td>\n",
       "      <td>2.666667</td>\n",
       "      <td>74.333336</td>\n",
       "      <td>2.666667</td>\n",
       "      <td>3.0</td>\n",
       "      <td>2.309401</td>\n",
       "      <td>1.333333</td>\n",
       "      <td>0.816497</td>\n",
       "      <td>1.000000</td>\n",
       "      <td>0.750000</td>\n",
       "      <td>-0.785398</td>\n",
       "    </tr>\n",
       "    <tr>\n",
       "      <th>2</th>\n",
       "      <td>27668.199219</td>\n",
       "      <td>4262.333496</td>\n",
       "      <td>10993.466797</td>\n",
       "      <td>8674.000000</td>\n",
       "      <td>6190.000000</td>\n",
       "      <td>2957.000000</td>\n",
       "      <td>2229.000000</td>\n",
       "      <td>1074.000000</td>\n",
       "      <td>5538.000000</td>\n",
       "      <td>3251.000000</td>\n",
       "      <td>...</td>\n",
       "      <td>3.666667</td>\n",
       "      <td>94.800003</td>\n",
       "      <td>3.666667</td>\n",
       "      <td>15.0</td>\n",
       "      <td>5.162854</td>\n",
       "      <td>3.686981</td>\n",
       "      <td>0.700007</td>\n",
       "      <td>0.937500</td>\n",
       "      <td>0.750000</td>\n",
       "      <td>-1.092991</td>\n",
       "    </tr>\n",
       "    <tr>\n",
       "      <th>3</th>\n",
       "      <td>29898.636719</td>\n",
       "      <td>4334.818359</td>\n",
       "      <td>7998.272949</td>\n",
       "      <td>3248.000000</td>\n",
       "      <td>6190.000000</td>\n",
       "      <td>2957.000000</td>\n",
       "      <td>2229.000000</td>\n",
       "      <td>1074.000000</td>\n",
       "      <td>5538.000000</td>\n",
       "      <td>3251.000000</td>\n",
       "      <td>...</td>\n",
       "      <td>4.500000</td>\n",
       "      <td>133.272720</td>\n",
       "      <td>4.500000</td>\n",
       "      <td>22.0</td>\n",
       "      <td>5.752470</td>\n",
       "      <td>4.851514</td>\n",
       "      <td>0.537319</td>\n",
       "      <td>1.000000</td>\n",
       "      <td>0.733333</td>\n",
       "      <td>0.000000</td>\n",
       "    </tr>\n",
       "    <tr>\n",
       "      <th>4</th>\n",
       "      <td>28224.917969</td>\n",
       "      <td>3873.027100</td>\n",
       "      <td>9128.458984</td>\n",
       "      <td>11911.027344</td>\n",
       "      <td>6190.000000</td>\n",
       "      <td>2957.000000</td>\n",
       "      <td>2229.000000</td>\n",
       "      <td>1074.000000</td>\n",
       "      <td>5538.000000</td>\n",
       "      <td>3251.000000</td>\n",
       "      <td>...</td>\n",
       "      <td>5.027027</td>\n",
       "      <td>180.756760</td>\n",
       "      <td>5.027027</td>\n",
       "      <td>37.0</td>\n",
       "      <td>8.337326</td>\n",
       "      <td>6.135042</td>\n",
       "      <td>0.677142</td>\n",
       "      <td>0.902439</td>\n",
       "      <td>0.660714</td>\n",
       "      <td>-0.907621</td>\n",
       "    </tr>\n",
       "    <tr>\n",
       "      <th>...</th>\n",
       "      <td>...</td>\n",
       "      <td>...</td>\n",
       "      <td>...</td>\n",
       "      <td>...</td>\n",
       "      <td>...</td>\n",
       "      <td>...</td>\n",
       "      <td>...</td>\n",
       "      <td>...</td>\n",
       "      <td>...</td>\n",
       "      <td>...</td>\n",
       "      <td>...</td>\n",
       "      <td>...</td>\n",
       "      <td>...</td>\n",
       "      <td>...</td>\n",
       "      <td>...</td>\n",
       "      <td>...</td>\n",
       "      <td>...</td>\n",
       "      <td>...</td>\n",
       "      <td>...</td>\n",
       "      <td>...</td>\n",
       "      <td>...</td>\n",
       "    </tr>\n",
       "    <tr>\n",
       "      <th>3293</th>\n",
       "      <td>36091.300781</td>\n",
       "      <td>5474.600098</td>\n",
       "      <td>16194.200195</td>\n",
       "      <td>11559.500000</td>\n",
       "      <td>13305.599609</td>\n",
       "      <td>8223.599609</td>\n",
       "      <td>5027.600098</td>\n",
       "      <td>4544.200195</td>\n",
       "      <td>10655.099609</td>\n",
       "      <td>7277.899902</td>\n",
       "      <td>...</td>\n",
       "      <td>512.400024</td>\n",
       "      <td>281.799988</td>\n",
       "      <td>512.400024</td>\n",
       "      <td>10.0</td>\n",
       "      <td>5.005094</td>\n",
       "      <td>2.636102</td>\n",
       "      <td>0.850061</td>\n",
       "      <td>0.909091</td>\n",
       "      <td>0.666667</td>\n",
       "      <td>1.499848</td>\n",
       "    </tr>\n",
       "    <tr>\n",
       "      <th>3294</th>\n",
       "      <td>18681.666016</td>\n",
       "      <td>3787.666748</td>\n",
       "      <td>8530.000000</td>\n",
       "      <td>6028.000000</td>\n",
       "      <td>10525.666992</td>\n",
       "      <td>15584.333008</td>\n",
       "      <td>8158.333496</td>\n",
       "      <td>4937.000000</td>\n",
       "      <td>9555.000000</td>\n",
       "      <td>6923.000000</td>\n",
       "      <td>...</td>\n",
       "      <td>511.666656</td>\n",
       "      <td>289.666656</td>\n",
       "      <td>511.666656</td>\n",
       "      <td>3.0</td>\n",
       "      <td>2.309401</td>\n",
       "      <td>1.333333</td>\n",
       "      <td>0.816497</td>\n",
       "      <td>1.000000</td>\n",
       "      <td>0.750000</td>\n",
       "      <td>0.785398</td>\n",
       "    </tr>\n",
       "    <tr>\n",
       "      <th>3295</th>\n",
       "      <td>35929.117188</td>\n",
       "      <td>15670.412109</td>\n",
       "      <td>8508.293945</td>\n",
       "      <td>5574.764648</td>\n",
       "      <td>41932.175781</td>\n",
       "      <td>13976.235352</td>\n",
       "      <td>9362.176758</td>\n",
       "      <td>4531.000000</td>\n",
       "      <td>12122.882812</td>\n",
       "      <td>7729.823730</td>\n",
       "      <td>...</td>\n",
       "      <td>512.529419</td>\n",
       "      <td>371.058838</td>\n",
       "      <td>512.529419</td>\n",
       "      <td>17.0</td>\n",
       "      <td>6.061336</td>\n",
       "      <td>3.897564</td>\n",
       "      <td>0.765849</td>\n",
       "      <td>0.894737</td>\n",
       "      <td>0.708333</td>\n",
       "      <td>1.506388</td>\n",
       "    </tr>\n",
       "    <tr>\n",
       "      <th>3296</th>\n",
       "      <td>23039.544922</td>\n",
       "      <td>14052.636719</td>\n",
       "      <td>7526.272949</td>\n",
       "      <td>3141.363525</td>\n",
       "      <td>37297.726562</td>\n",
       "      <td>11241.818359</td>\n",
       "      <td>6875.090820</td>\n",
       "      <td>4532.818359</td>\n",
       "      <td>30919.818359</td>\n",
       "      <td>18914.908203</td>\n",
       "      <td>...</td>\n",
       "      <td>512.090881</td>\n",
       "      <td>381.363647</td>\n",
       "      <td>512.090881</td>\n",
       "      <td>11.0</td>\n",
       "      <td>4.346130</td>\n",
       "      <td>3.067356</td>\n",
       "      <td>0.708444</td>\n",
       "      <td>1.000000</td>\n",
       "      <td>0.916667</td>\n",
       "      <td>1.307763</td>\n",
       "    </tr>\n",
       "    <tr>\n",
       "      <th>3297</th>\n",
       "      <td>13827.000000</td>\n",
       "      <td>7138.000000</td>\n",
       "      <td>6706.000000</td>\n",
       "      <td>21509.000000</td>\n",
       "      <td>33636.000000</td>\n",
       "      <td>12058.000000</td>\n",
       "      <td>6045.000000</td>\n",
       "      <td>4884.000000</td>\n",
       "      <td>20510.000000</td>\n",
       "      <td>13015.000000</td>\n",
       "      <td>...</td>\n",
       "      <td>512.000000</td>\n",
       "      <td>169.000000</td>\n",
       "      <td>512.000000</td>\n",
       "      <td>1.0</td>\n",
       "      <td>0.000000</td>\n",
       "      <td>0.000000</td>\n",
       "      <td>0.000000</td>\n",
       "      <td>1.000000</td>\n",
       "      <td>1.000000</td>\n",
       "      <td>0.785398</td>\n",
       "    </tr>\n",
       "  </tbody>\n",
       "</table>\n",
       "<p>3298 rows × 23 columns</p>\n",
       "</div>"
      ],
      "text/plain": [
       "      DAPI_1_cellMask  GFP.KP1.9_cellMask  CD206_cellMask  \\\n",
       "0        27958.554688         3295.222168    15162.777344   \n",
       "1        27643.666016         3163.666748     6108.000000   \n",
       "2        27668.199219         4262.333496    10993.466797   \n",
       "3        29898.636719         4334.818359     7998.272949   \n",
       "4        28224.917969         3873.027100     9128.458984   \n",
       "...               ...                 ...             ...   \n",
       "3293     36091.300781         5474.600098    16194.200195   \n",
       "3294     18681.666016         3787.666748     8530.000000   \n",
       "3295     35929.117188        15670.412109     8508.293945   \n",
       "3296     23039.544922        14052.636719     7526.272949   \n",
       "3297     13827.000000         7138.000000     6706.000000   \n",
       "\n",
       "      BODIPY630.NP_cellMask  DAPI_2_cellMask  Arg1_cellMask  CD11c_cellMask  \\\n",
       "0              65415.890625      6190.000000    2957.000000     2229.000000   \n",
       "1               5068.000000      6190.000000    2957.000000     2229.000000   \n",
       "2               8674.000000      6190.000000    2957.000000     2229.000000   \n",
       "3               3248.000000      6190.000000    2957.000000     2229.000000   \n",
       "4              11911.027344      6190.000000    2957.000000     2229.000000   \n",
       "...                     ...              ...            ...             ...   \n",
       "3293           11559.500000     13305.599609    8223.599609     5027.600098   \n",
       "3294            6028.000000     10525.666992   15584.333008     8158.333496   \n",
       "3295            5574.764648     41932.175781   13976.235352     9362.176758   \n",
       "3296            3141.363525     37297.726562   11241.818359     6875.090820   \n",
       "3297           21509.000000     33636.000000   12058.000000     6045.000000   \n",
       "\n",
       "      CD45_cellMask  DAPI_3_cellMask  C12.D.nanoparticle_cellMask  ...  \\\n",
       "0       1074.000000      5538.000000                  3251.000000  ...   \n",
       "1       1074.000000      5538.000000                  3251.000000  ...   \n",
       "2       1074.000000      5538.000000                  3251.000000  ...   \n",
       "3       1074.000000      5538.000000                  3251.000000  ...   \n",
       "4       1074.000000      5538.000000                  3251.000000  ...   \n",
       "...             ...              ...                          ...  ...   \n",
       "3293    4544.200195     10655.099609                  7277.899902  ...   \n",
       "3294    4937.000000      9555.000000                  6923.000000  ...   \n",
       "3295    4531.000000     12122.882812                  7729.823730  ...   \n",
       "3296    4532.818359     30919.818359                 18914.908203  ...   \n",
       "3297    4884.000000     20510.000000                 13015.000000  ...   \n",
       "\n",
       "      Y_centroid  column_centroid  row_centroid  Area  MajorAxisLength  \\\n",
       "0       3.333333        61.444443      3.333333   9.0         4.277663   \n",
       "1       2.666667        74.333336      2.666667   3.0         2.309401   \n",
       "2       3.666667        94.800003      3.666667  15.0         5.162854   \n",
       "3       4.500000       133.272720      4.500000  22.0         5.752470   \n",
       "4       5.027027       180.756760      5.027027  37.0         8.337326   \n",
       "...          ...              ...           ...   ...              ...   \n",
       "3293  512.400024       281.799988    512.400024  10.0         5.005094   \n",
       "3294  511.666656       289.666656    511.666656   3.0         2.309401   \n",
       "3295  512.529419       371.058838    512.529419  17.0         6.061336   \n",
       "3296  512.090881       381.363647    512.090881  11.0         4.346130   \n",
       "3297  512.000000       169.000000    512.000000   1.0         0.000000   \n",
       "\n",
       "      MinorAxisLength  Eccentricity  Solidity    Extent  Orientation  \n",
       "0            2.643019      0.786284  0.900000  0.750000     1.465250  \n",
       "1            1.333333      0.816497  1.000000  0.750000    -0.785398  \n",
       "2            3.686981      0.700007  0.937500  0.750000    -1.092991  \n",
       "3            4.851514      0.537319  1.000000  0.733333     0.000000  \n",
       "4            6.135042      0.677142  0.902439  0.660714    -0.907621  \n",
       "...               ...           ...       ...       ...          ...  \n",
       "3293         2.636102      0.850061  0.909091  0.666667     1.499848  \n",
       "3294         1.333333      0.816497  1.000000  0.750000     0.785398  \n",
       "3295         3.897564      0.765849  0.894737  0.708333     1.506388  \n",
       "3296         3.067356      0.708444  1.000000  0.916667     1.307763  \n",
       "3297         0.000000      0.000000  1.000000  1.000000     0.785398  \n",
       "\n",
       "[3298 rows x 23 columns]"
      ]
     },
     "execution_count": 14,
     "metadata": {},
     "output_type": "execute_result"
    }
   ],
   "source": [
    "sample.get_data()"
   ]
  },
  {
   "cell_type": "code",
   "execution_count": 15,
   "id": "1b50257c-f184-4f97-ad5d-d320f8f14a23",
   "metadata": {},
   "outputs": [
    {
     "name": "stdout",
     "output_type": "stream",
     "text": [
      "('DAPI_1_cellMask', 'GFP.KP1.9_cellMask', 'CD206_cellMask', 'BODIPY630.NP_cellMask', 'DAPI_2_cellMask', 'Arg1_cellMask', 'CD11c_cellMask', 'CD45_cellMask', 'DAPI_3_cellMask', 'C12.D.nanoparticle_cellMask', 'X7C1.F5.nanoparticle_cellMask', 'G0.P5.nanoparticle_cellMask', 'X_centroid', 'Y_centroid', 'column_centroid', 'row_centroid', 'Area', 'MajorAxisLength', 'MinorAxisLength', 'Eccentricity', 'Solidity', 'Extent', 'Orientation')\n"
     ]
    }
   ],
   "source": [
    "print(sample.channel_names)"
   ]
  },
  {
   "cell_type": "code",
   "execution_count": 16,
   "id": "9d6c3a95-c1c1-4b9c-916d-84d60076f192",
   "metadata": {},
   "outputs": [],
   "source": [
    "gates = {\n",
    "    \"lung_1_1\": [\n",
    "        {\n",
    "            \"gate\": IntervalGate((0, 2000), \"GFP.KP1.9_cellMask\", 'in', name='GFP- Host'),\n",
    "            \"children\": [\n",
    "                {\n",
    "                    \"gate\": IntervalGate((0, 500), \"CD45_cellMask\", 'in', name='CD45-'),\n",
    "                    \"children\": [],\n",
    "                },\n",
    "                {\n",
    "                    \"gate\": IntervalGate((500, 20000), \"CD45_cellMask\", 'in', name='CD45+'),\n",
    "                    \"children\": [],\n",
    "                },\n",
    "            ]\n",
    "        },\n",
    "        {\n",
    "            \"gate\": IntervalGate((3000, 30000), \"GFP.KP1.9_cellMask\", 'in', name='GFP+ Tumor'),\n",
    "            \"children\": [\n",
    "                {\n",
    "                    \"gate\": IntervalGate((0, 500), \"CD45_cellMask\", 'in', name='CD45-'),\n",
    "                    \"children\": [],\n",
    "                },\n",
    "                {\n",
    "                    \"gate\": IntervalGate((500, 20000), \"CD45_cellMask\", 'in', name='CD45+'),\n",
    "                    \"children\": [],\n",
    "                },\n",
    "            ]\n",
    "        },\n",
    "    ],\n",
    "    \"lung_2_1\": [\n",
    "        {\n",
    "            \"gate\": IntervalGate((0, 9000), \"GFP.KP1.9_cellMask\", 'in', name='GFP- Host'),\n",
    "            \"children\": [\n",
    "                {\n",
    "                    \"gate\": IntervalGate((0, 2500), \"CD45_cellMask\", 'in', name='CD45-'),\n",
    "                    \"children\": [],\n",
    "                },\n",
    "                {\n",
    "                    \"gate\": IntervalGate((2500, 10000), \"CD45_cellMask\", 'in', name='CD45+'),\n",
    "                    \"children\": [],\n",
    "                },\n",
    "            ]\n",
    "        },\n",
    "        {\n",
    "            \"gate\": IntervalGate((16000, 50000), \"GFP.KP1.9_cellMask\", 'in', name='GFP+ Tumor'),\n",
    "            \"children\": [\n",
    "                {\n",
    "                    \"gate\": IntervalGate((0, 2500), \"CD45_cellMask\", 'in', name='CD45-'),\n",
    "                    \"children\": [],\n",
    "                },\n",
    "                {\n",
    "                    \"gate\": IntervalGate((2500, 10000), \"CD45_cellMask\", 'in', name='CD45+'),\n",
    "                    \"children\": [],\n",
    "                },\n",
    "            ]\n",
    "        },\n",
    "    ],\n",
    "    \"lung_2_2\": [\n",
    "        {\n",
    "            \"gate\": IntervalGate((0, 9000), \"GFP.KP1.9_cellMask\", 'in', name='GFP- Host'),\n",
    "            \"children\": [\n",
    "                {\n",
    "                    \"gate\": IntervalGate((0, 190), \"CD45_cellMask\", 'in', name='CD45-'),\n",
    "                    \"children\": [],\n",
    "                },\n",
    "                {\n",
    "                    \"gate\": IntervalGate((190, 700), \"CD45_cellMask\", 'in', name='CD45+'),\n",
    "                    \"children\": [],\n",
    "                },\n",
    "            ]\n",
    "        },\n",
    "        {\n",
    "            \"gate\": IntervalGate((12000, 50000), \"GFP.KP1.9_cellMask\", 'in', name='GFP+ Tumor'),\n",
    "            \"children\": [\n",
    "                {\n",
    "                    \"gate\": IntervalGate((0, 220), \"CD45_cellMask\", 'in', name='CD45-'),\n",
    "                    \"children\": [],\n",
    "                },\n",
    "                {\n",
    "                    \"gate\": IntervalGate((220, 1000), \"CD45_cellMask\", 'in', name='CD45+'),\n",
    "                    \"children\": [],\n",
    "                },\n",
    "            ]\n",
    "        },\n",
    "    ],\n",
    "}"
   ]
  },
  {
   "cell_type": "code",
   "execution_count": 17,
   "id": "2cf90942-8920-4ea6-9027-521530f7a2f2",
   "metadata": {},
   "outputs": [],
   "source": [
    "thresholds = {\n",
    "    \"lung_1_1\": {\n",
    "        \"GFP-\": {\n",
    "            \"CD206_cellMask\": 500,\n",
    "            \"Arg1_cellMask\": 3000,\n",
    "            \"CD11c_cellMask\": 1000,\n",
    "        },\n",
    "        \"GFP+\": {\n",
    "            \"CD206_cellMask\": 500,\n",
    "            \"Arg1_cellMask\": 500,\n",
    "            \"CD11c_cellMask\": 500,\n",
    "        }\n",
    "    },\n",
    "    \"lung_2_1\": {\n",
    "        \"GFP-\": {\n",
    "            \"CD206_cellMask\": 19000,\n",
    "            \"Arg1_cellMask\": 15000,\n",
    "            \"CD11c_cellMask\": 10000,\n",
    "        },\n",
    "        \"GFP+\": {\n",
    "            \"CD206_cellMask\": 13750,\n",
    "            \"Arg1_cellMask\": 12500,\n",
    "            \"CD11c_cellMask\": 9000,\n",
    "        }\n",
    "    },\n",
    "    \"lung_2_2\": {\n",
    "        \"GFP-\": {\n",
    "            \"CD206_cellMask\": 15000,\n",
    "            \"Arg1_cellMask\": 600,\n",
    "            \"CD11c_cellMask\": 400,\n",
    "        },\n",
    "        \"GFP+\": {\n",
    "            \"CD206_cellMask\": 14000,\n",
    "            \"Arg1_cellMask\": 450,\n",
    "            \"CD11c_cellMask\": 350,\n",
    "        }\n",
    "    },\n",
    "}\n",
    "\n",
    "conditions = list(itertools.product([False, True], repeat=3))\n",
    "channels = [\"CD206_cellMask\", \"CD11c_cellMask\", \"Arg1_cellMask\"]\n",
    "\n",
    "for gfp_i, gfp_state in enumerate([\"GFP-\", \"GFP+\"]):\n",
    "    for cd45_i, cd45_state in enumerate([\"CD45-\", \"CD45+\"]):\n",
    "        for condition in conditions:\n",
    "            condition_state = dict(zip(channels, condition))\n",
    "            condition_name = \"\".join([ c_name.replace(\"_cellMask\", \"\") + (\"+\" if c_val else \"-\") for c_name, c_val in condition_state.items() ])\n",
    "            \n",
    "            condition_gates = []\n",
    "            for condition_channel, condition_value in condition_state.items():\n",
    "                condition_gate = ThresholdGate(thresholds[sample_id][gfp_state][condition_channel], condition_channel, (\"above\" if condition_value else \"below\"), )\n",
    "                condition_gates.append(condition_gate)\n",
    "                \n",
    "            gates[sample_id][gfp_i][\"children\"][cd45_i][\"children\"].append({\n",
    "                \"gate\": condition_name,\n",
    "                \"children\": condition_gates\n",
    "            })"
   ]
  },
  {
   "cell_type": "code",
   "execution_count": 18,
   "id": "6d135308-afb3-4529-8d8e-c4ba14e49ef3",
   "metadata": {},
   "outputs": [
    {
     "data": {
      "text/html": [
       "<div>\n",
       "<style scoped>\n",
       "    .dataframe tbody tr th:only-of-type {\n",
       "        vertical-align: middle;\n",
       "    }\n",
       "\n",
       "    .dataframe tbody tr th {\n",
       "        vertical-align: top;\n",
       "    }\n",
       "\n",
       "    .dataframe thead th {\n",
       "        text-align: right;\n",
       "    }\n",
       "</style>\n",
       "<table border=\"1\" class=\"dataframe\">\n",
       "  <thead>\n",
       "    <tr style=\"text-align: right;\">\n",
       "      <th></th>\n",
       "      <th>DAPI_1_cellMask</th>\n",
       "      <th>GFP.KP1.9_cellMask</th>\n",
       "      <th>CD206_cellMask</th>\n",
       "      <th>BODIPY630.NP_cellMask</th>\n",
       "      <th>DAPI_2_cellMask</th>\n",
       "      <th>Arg1_cellMask</th>\n",
       "      <th>CD11c_cellMask</th>\n",
       "      <th>CD45_cellMask</th>\n",
       "      <th>DAPI_3_cellMask</th>\n",
       "      <th>C12.D.nanoparticle_cellMask</th>\n",
       "      <th>...</th>\n",
       "      <th>Y_centroid</th>\n",
       "      <th>column_centroid</th>\n",
       "      <th>row_centroid</th>\n",
       "      <th>Area</th>\n",
       "      <th>MajorAxisLength</th>\n",
       "      <th>MinorAxisLength</th>\n",
       "      <th>Eccentricity</th>\n",
       "      <th>Solidity</th>\n",
       "      <th>Extent</th>\n",
       "      <th>Orientation</th>\n",
       "    </tr>\n",
       "  </thead>\n",
       "  <tbody>\n",
       "    <tr>\n",
       "      <th>0</th>\n",
       "      <td>27958.554688</td>\n",
       "      <td>3295.222168</td>\n",
       "      <td>15162.777344</td>\n",
       "      <td>65415.890625</td>\n",
       "      <td>6190.0</td>\n",
       "      <td>2957.0</td>\n",
       "      <td>2229.0</td>\n",
       "      <td>1074.0</td>\n",
       "      <td>5538.0</td>\n",
       "      <td>3251.0</td>\n",
       "      <td>...</td>\n",
       "      <td>3.333333</td>\n",
       "      <td>61.444443</td>\n",
       "      <td>3.333333</td>\n",
       "      <td>9.0</td>\n",
       "      <td>4.277663</td>\n",
       "      <td>2.643019</td>\n",
       "      <td>0.786284</td>\n",
       "      <td>0.900000</td>\n",
       "      <td>0.750000</td>\n",
       "      <td>1.465250</td>\n",
       "    </tr>\n",
       "    <tr>\n",
       "      <th>1</th>\n",
       "      <td>27643.666016</td>\n",
       "      <td>3163.666748</td>\n",
       "      <td>6108.000000</td>\n",
       "      <td>5068.000000</td>\n",
       "      <td>6190.0</td>\n",
       "      <td>2957.0</td>\n",
       "      <td>2229.0</td>\n",
       "      <td>1074.0</td>\n",
       "      <td>5538.0</td>\n",
       "      <td>3251.0</td>\n",
       "      <td>...</td>\n",
       "      <td>2.666667</td>\n",
       "      <td>74.333336</td>\n",
       "      <td>2.666667</td>\n",
       "      <td>3.0</td>\n",
       "      <td>2.309401</td>\n",
       "      <td>1.333333</td>\n",
       "      <td>0.816497</td>\n",
       "      <td>1.000000</td>\n",
       "      <td>0.750000</td>\n",
       "      <td>-0.785398</td>\n",
       "    </tr>\n",
       "    <tr>\n",
       "      <th>2</th>\n",
       "      <td>27668.199219</td>\n",
       "      <td>4262.333496</td>\n",
       "      <td>10993.466797</td>\n",
       "      <td>8674.000000</td>\n",
       "      <td>6190.0</td>\n",
       "      <td>2957.0</td>\n",
       "      <td>2229.0</td>\n",
       "      <td>1074.0</td>\n",
       "      <td>5538.0</td>\n",
       "      <td>3251.0</td>\n",
       "      <td>...</td>\n",
       "      <td>3.666667</td>\n",
       "      <td>94.800003</td>\n",
       "      <td>3.666667</td>\n",
       "      <td>15.0</td>\n",
       "      <td>5.162854</td>\n",
       "      <td>3.686981</td>\n",
       "      <td>0.700007</td>\n",
       "      <td>0.937500</td>\n",
       "      <td>0.750000</td>\n",
       "      <td>-1.092991</td>\n",
       "    </tr>\n",
       "    <tr>\n",
       "      <th>3</th>\n",
       "      <td>29898.636719</td>\n",
       "      <td>4334.818359</td>\n",
       "      <td>7998.272949</td>\n",
       "      <td>3248.000000</td>\n",
       "      <td>6190.0</td>\n",
       "      <td>2957.0</td>\n",
       "      <td>2229.0</td>\n",
       "      <td>1074.0</td>\n",
       "      <td>5538.0</td>\n",
       "      <td>3251.0</td>\n",
       "      <td>...</td>\n",
       "      <td>4.500000</td>\n",
       "      <td>133.272720</td>\n",
       "      <td>4.500000</td>\n",
       "      <td>22.0</td>\n",
       "      <td>5.752470</td>\n",
       "      <td>4.851514</td>\n",
       "      <td>0.537319</td>\n",
       "      <td>1.000000</td>\n",
       "      <td>0.733333</td>\n",
       "      <td>0.000000</td>\n",
       "    </tr>\n",
       "    <tr>\n",
       "      <th>4</th>\n",
       "      <td>28224.917969</td>\n",
       "      <td>3873.027100</td>\n",
       "      <td>9128.458984</td>\n",
       "      <td>11911.027344</td>\n",
       "      <td>6190.0</td>\n",
       "      <td>2957.0</td>\n",
       "      <td>2229.0</td>\n",
       "      <td>1074.0</td>\n",
       "      <td>5538.0</td>\n",
       "      <td>3251.0</td>\n",
       "      <td>...</td>\n",
       "      <td>5.027027</td>\n",
       "      <td>180.756760</td>\n",
       "      <td>5.027027</td>\n",
       "      <td>37.0</td>\n",
       "      <td>8.337326</td>\n",
       "      <td>6.135042</td>\n",
       "      <td>0.677142</td>\n",
       "      <td>0.902439</td>\n",
       "      <td>0.660714</td>\n",
       "      <td>-0.907621</td>\n",
       "    </tr>\n",
       "  </tbody>\n",
       "</table>\n",
       "<p>5 rows × 23 columns</p>\n",
       "</div>"
      ],
      "text/plain": [
       "   DAPI_1_cellMask  GFP.KP1.9_cellMask  CD206_cellMask  BODIPY630.NP_cellMask  \\\n",
       "0     27958.554688         3295.222168    15162.777344           65415.890625   \n",
       "1     27643.666016         3163.666748     6108.000000            5068.000000   \n",
       "2     27668.199219         4262.333496    10993.466797            8674.000000   \n",
       "3     29898.636719         4334.818359     7998.272949            3248.000000   \n",
       "4     28224.917969         3873.027100     9128.458984           11911.027344   \n",
       "\n",
       "   DAPI_2_cellMask  Arg1_cellMask  CD11c_cellMask  CD45_cellMask  \\\n",
       "0           6190.0         2957.0          2229.0         1074.0   \n",
       "1           6190.0         2957.0          2229.0         1074.0   \n",
       "2           6190.0         2957.0          2229.0         1074.0   \n",
       "3           6190.0         2957.0          2229.0         1074.0   \n",
       "4           6190.0         2957.0          2229.0         1074.0   \n",
       "\n",
       "   DAPI_3_cellMask  C12.D.nanoparticle_cellMask  ...  Y_centroid  \\\n",
       "0           5538.0                       3251.0  ...    3.333333   \n",
       "1           5538.0                       3251.0  ...    2.666667   \n",
       "2           5538.0                       3251.0  ...    3.666667   \n",
       "3           5538.0                       3251.0  ...    4.500000   \n",
       "4           5538.0                       3251.0  ...    5.027027   \n",
       "\n",
       "   column_centroid  row_centroid  Area  MajorAxisLength  MinorAxisLength  \\\n",
       "0        61.444443      3.333333   9.0         4.277663         2.643019   \n",
       "1        74.333336      2.666667   3.0         2.309401         1.333333   \n",
       "2        94.800003      3.666667  15.0         5.162854         3.686981   \n",
       "3       133.272720      4.500000  22.0         5.752470         4.851514   \n",
       "4       180.756760      5.027027  37.0         8.337326         6.135042   \n",
       "\n",
       "   Eccentricity  Solidity    Extent  Orientation  \n",
       "0      0.786284  0.900000  0.750000     1.465250  \n",
       "1      0.816497  1.000000  0.750000    -0.785398  \n",
       "2      0.700007  0.937500  0.750000    -1.092991  \n",
       "3      0.537319  1.000000  0.733333     0.000000  \n",
       "4      0.677142  0.902439  0.660714    -0.907621  \n",
       "\n",
       "[5 rows x 23 columns]"
      ]
     },
     "execution_count": 18,
     "metadata": {},
     "output_type": "execute_result"
    }
   ],
   "source": [
    "df = sample.get_data()\n",
    "df.head()"
   ]
  },
  {
   "cell_type": "code",
   "execution_count": 19,
   "id": "18207624-ea54-4efe-8125-33409996e4f7",
   "metadata": {},
   "outputs": [],
   "source": [
    "# Prepare cells.json for Vitessce"
   ]
  },
  {
   "cell_type": "code",
   "execution_count": 20,
   "id": "2e8932bd-e030-42be-8252-c9a0432bf3e8",
   "metadata": {},
   "outputs": [],
   "source": [
    "cells_json = {}\n",
    "for cell_id in df.index.values.tolist():\n",
    "    row = df.loc[cell_id]\n",
    "    cells_json[cell_id] = {\n",
    "        \"mappings\": {\n",
    "            \n",
    "        },\n",
    "        \"xy\": [ float(row[\"X_centroid\"]), float(row[\"Y_centroid\"]) ],\n",
    "        \"factors\": {\n",
    "            \n",
    "        },\n",
    "    }\n",
    "with open(join(\"data\", sample_id, \"flowcore\", f\"{sample_id}.cells.json\"), \"w\") as f:\n",
    "    json.dump(cells_json, f)"
   ]
  },
  {
   "cell_type": "code",
   "execution_count": 21,
   "id": "52bb71f7-7ed1-4b68-97fa-5cbc02fce280",
   "metadata": {},
   "outputs": [],
   "source": [
    "# Prepare cell-sets.json for vitessce"
   ]
  },
  {
   "cell_type": "code",
   "execution_count": 22,
   "id": "dec52d37-1e86-48f3-90d7-18ed5a2d4f14",
   "metadata": {},
   "outputs": [],
   "source": [
    "cell_sets_json = {\n",
    "    \"version\": \"0.1.2\",\n",
    "    \"datatype\": \"cell\",\n",
    "    \"tree\": [\n",
    "        {\n",
    "            \"name\": \"Cell class\",\n",
    "            \"children\": [\n",
    "                # GFP+\n",
    "                # GFP-\n",
    "            ]\n",
    "        }\n",
    "    ]\n",
    "}"
   ]
  },
  {
   "cell_type": "code",
   "execution_count": 23,
   "id": "eaa83cde-b17c-4fc8-bd53-aa4527af8462",
   "metadata": {},
   "outputs": [],
   "source": [
    "sample_gates = gates[sample_id]\n",
    "\n",
    "for lev_0_node in sample_gates:\n",
    "    lev_0_gate = lev_0_node[\"gate\"]\n",
    "    lev_0_gated_sample = sample.gate(lev_0_gate)\n",
    "    \n",
    "    lev_0_cs_node = {\n",
    "        \"name\": lev_0_gate.name,\n",
    "        \"children\": []\n",
    "    }\n",
    "    \n",
    "    for lev_1_node in lev_0_node[\"children\"]:\n",
    "        lev_1_gate = lev_1_node[\"gate\"]\n",
    "        lev_1_gated_sample = lev_0_gated_sample.gate(lev_1_gate)\n",
    "        \n",
    "        lev_1_cs_node = {\n",
    "            \"name\": lev_1_gate.name,\n",
    "            \"children\": []\n",
    "        }\n",
    "        \n",
    "        for lev_2_node in lev_1_node[\"children\"]:\n",
    "            lev_2_gated_sample = lev_1_gated_sample\n",
    "            for lev_2_gate in lev_2_node[\"children\"]:\n",
    "                lev_2_gated_sample = lev_2_gated_sample.gate(lev_2_gate)\n",
    "            \n",
    "            lev_2_cs_node = {\n",
    "                \"name\": lev_2_node[\"gate\"],\n",
    "                \"set\": [ str(i) for i in lev_2_gated_sample.get_data().index.values.tolist() ],\n",
    "            }\n",
    "            \n",
    "            lev_1_cs_node[\"children\"].append(lev_2_cs_node)\n",
    "        \n",
    "        lev_0_cs_node[\"children\"].append(lev_1_cs_node)\n",
    "    \n",
    "    cell_sets_json[\"tree\"][0][\"children\"].append(lev_0_cs_node)"
   ]
  },
  {
   "cell_type": "code",
   "execution_count": 24,
   "id": "d48882ef-a724-4bbb-b405-8b1205e4cbd2",
   "metadata": {},
   "outputs": [],
   "source": [
    "with open(join(\"data\", sample_id, \"flowcore\", f\"{sample_id}.cell-sets.json\"), \"w\") as f:\n",
    "    json.dump(cell_sets_json, f)"
   ]
  },
  {
   "cell_type": "markdown",
   "id": "42f1c490-1307-431b-a877-8735468c6a0c",
   "metadata": {},
   "source": [
    "## Generate gating plots"
   ]
  },
  {
   "cell_type": "code",
   "execution_count": null,
   "id": "f9e054bb-445c-4d61-a022-3cc3b4253a80",
   "metadata": {},
   "outputs": [],
   "source": []
  },
  {
   "cell_type": "code",
   "execution_count": null,
   "id": "643748c8-9543-4043-a1db-9979ca4fdef9",
   "metadata": {},
   "outputs": [],
   "source": []
  },
  {
   "cell_type": "code",
   "execution_count": null,
   "id": "c49e4a3b-9c6c-4de9-b717-61aa04ce3fd4",
   "metadata": {},
   "outputs": [],
   "source": []
  },
  {
   "cell_type": "code",
   "execution_count": null,
   "id": "794e1338-5408-49bb-8360-179d2c787bc2",
   "metadata": {},
   "outputs": [],
   "source": []
  },
  {
   "cell_type": "code",
   "execution_count": null,
   "id": "2440bb58-f382-41f0-9a67-17365ca8adbc",
   "metadata": {},
   "outputs": [],
   "source": []
  },
  {
   "cell_type": "markdown",
   "id": "7f556661-05be-4f5f-9f3b-b832edd0dc8c",
   "metadata": {},
   "source": [
    "## Generate cell segmentation mask arrays and files"
   ]
  },
  {
   "cell_type": "code",
   "execution_count": 32,
   "id": "44ec6a33-d340-4578-acff-b829e214a659",
   "metadata": {},
   "outputs": [],
   "source": [
    "def get_sample_cell_ids(s):\n",
    "    return [ str(i) for i in s.get_data().index.values.tolist() ]"
   ]
  },
  {
   "cell_type": "code",
   "execution_count": 33,
   "id": "6805926d-986f-4c5c-8fbd-c424140cc4bc",
   "metadata": {},
   "outputs": [],
   "source": [
    "segmentation_masks = {}\n",
    "\n",
    "cell_class_df = pd.DataFrame(index=get_sample_cell_ids(sample), columns=[], data=[])\n",
    "\n",
    "for lev_0_node in sample_gates:\n",
    "    lev_0_gate = lev_0_node[\"gate\"]\n",
    "    lev_0_gated_sample = sample.gate(lev_0_gate)\n",
    "    \n",
    "    lev_0_cs_name = lev_0_gate.name\n",
    "    \n",
    "    for lev_1_node in lev_0_node[\"children\"]:\n",
    "        lev_1_gate = lev_1_node[\"gate\"]\n",
    "        lev_1_gated_sample = lev_0_gated_sample.gate(lev_1_gate)\n",
    "        \n",
    "        lev_1_cs_name = lev_1_gate.name\n",
    "        lev_1_cs_set = get_sample_cell_ids(lev_1_gated_sample)\n",
    "        \n",
    "        set_name = f\"{lev_0_cs_name} {lev_1_cs_name}\"\n",
    "        \n",
    "       \n",
    "        cell_class_df[set_name] = cell_class_df.index.to_series().apply(lambda i: i in lev_1_cs_set)\n",
    "        \n",
    "        "
   ]
  },
  {
   "cell_type": "code",
   "execution_count": 37,
   "id": "723c98b6-c3f3-4b59-b5b7-0a4ac94d1d4d",
   "metadata": {},
   "outputs": [
    {
     "data": {
      "text/html": [
       "<div>\n",
       "<style scoped>\n",
       "    .dataframe tbody tr th:only-of-type {\n",
       "        vertical-align: middle;\n",
       "    }\n",
       "\n",
       "    .dataframe tbody tr th {\n",
       "        vertical-align: top;\n",
       "    }\n",
       "\n",
       "    .dataframe thead th {\n",
       "        text-align: right;\n",
       "    }\n",
       "</style>\n",
       "<table border=\"1\" class=\"dataframe\">\n",
       "  <thead>\n",
       "    <tr style=\"text-align: right;\">\n",
       "      <th></th>\n",
       "      <th>GFP- Host CD45-</th>\n",
       "      <th>GFP- Host CD45+</th>\n",
       "      <th>GFP+ Tumor CD45-</th>\n",
       "      <th>GFP+ Tumor CD45+</th>\n",
       "    </tr>\n",
       "  </thead>\n",
       "  <tbody>\n",
       "    <tr>\n",
       "      <th>0</th>\n",
       "      <td>True</td>\n",
       "      <td>False</td>\n",
       "      <td>False</td>\n",
       "      <td>False</td>\n",
       "    </tr>\n",
       "    <tr>\n",
       "      <th>1</th>\n",
       "      <td>True</td>\n",
       "      <td>False</td>\n",
       "      <td>False</td>\n",
       "      <td>False</td>\n",
       "    </tr>\n",
       "    <tr>\n",
       "      <th>2</th>\n",
       "      <td>True</td>\n",
       "      <td>False</td>\n",
       "      <td>False</td>\n",
       "      <td>False</td>\n",
       "    </tr>\n",
       "    <tr>\n",
       "      <th>3</th>\n",
       "      <td>True</td>\n",
       "      <td>False</td>\n",
       "      <td>False</td>\n",
       "      <td>False</td>\n",
       "    </tr>\n",
       "    <tr>\n",
       "      <th>4</th>\n",
       "      <td>True</td>\n",
       "      <td>False</td>\n",
       "      <td>False</td>\n",
       "      <td>False</td>\n",
       "    </tr>\n",
       "  </tbody>\n",
       "</table>\n",
       "</div>"
      ],
      "text/plain": [
       "   GFP- Host CD45-  GFP- Host CD45+  GFP+ Tumor CD45-  GFP+ Tumor CD45+\n",
       "0             True            False             False             False\n",
       "1             True            False             False             False\n",
       "2             True            False             False             False\n",
       "3             True            False             False             False\n",
       "4             True            False             False             False"
      ]
     },
     "execution_count": 37,
     "metadata": {},
     "output_type": "execute_result"
    }
   ],
   "source": [
    "cell_class_df.head()"
   ]
  },
  {
   "cell_type": "code",
   "execution_count": 38,
   "id": "40104016-9ae1-4c9c-8d8b-d0f617b15517",
   "metadata": {},
   "outputs": [],
   "source": [
    "image = imread(join(\"data\", sample_id, \"segmentation\", f\"unmicst-{sample_id}\", \"cellMask.tif\"))"
   ]
  },
  {
   "cell_type": "code",
   "execution_count": 39,
   "id": "d13ba719-1fd8-41a5-9ddb-8934c00d2831",
   "metadata": {},
   "outputs": [
    {
     "data": {
      "text/plain": [
       "array([   0,    1,    2, ..., 3296, 3297, 3298], dtype=int32)"
      ]
     },
     "execution_count": 39,
     "metadata": {},
     "output_type": "execute_result"
    }
   ],
   "source": [
    "np.unique(image)"
   ]
  },
  {
   "cell_type": "code",
   "execution_count": 40,
   "id": "dc2eb99d-bc0e-44fb-9222-246ffbb5e71e",
   "metadata": {},
   "outputs": [],
   "source": [
    "os.makedirs(join(\"data\", sample_id, \"masks\"), exist_ok=True)"
   ]
  },
  {
   "cell_type": "code",
   "execution_count": 41,
   "id": "5bb099ae-8b4c-40f3-a4fc-ec86421aa962",
   "metadata": {},
   "outputs": [],
   "source": [
    "colors = [\n",
    "    [57, 119, 175],\n",
    "    [239, 133, 54],\n",
    "    [81, 157, 62],\n",
    "    [197, 57, 50],\n",
    "    [141, 107, 184],\n",
    "    [133, 88, 78],\n",
    "    [227, 119, 194],\n",
    "    [188, 189, 34]\n",
    "]"
   ]
  },
  {
   "cell_type": "code",
   "execution_count": 44,
   "id": "21c0d8b4-64ba-49b8-8fa3-8e21c5fc39a7",
   "metadata": {},
   "outputs": [],
   "source": [
    "rgb_image = np.zeros((*image.shape, 3))\n",
    "int_image = np.zeros((*image.shape, ))\n",
    "cell_classes = cell_class_df.columns.values.tolist()\n",
    "\n",
    "for i, cell_class in enumerate(cell_classes):\n",
    "    class_specific_df = cell_class_df.loc[(cell_class_df[cell_class])]\n",
    "\n",
    "    in_cell_ids = [ (int(i)+1) for i in class_specific_df.index.values.tolist() ]\n",
    "    for cell_id in in_cell_ids:\n",
    "        rgb_image[image == cell_id] = colors[i]\n",
    "        int_image[image == cell_id] = i\n",
    "\n",
    "imwrite(join(\"data\", sample_id, \"masks\", f\"four__rgb.tif\"), rgb_image, photometric='rgb')"
   ]
  },
  {
   "cell_type": "code",
   "execution_count": 50,
   "id": "4487d6a0-c68b-4181-b623-e857826cdd28",
   "metadata": {},
   "outputs": [
    {
     "data": {
      "text/plain": [
       "array([[0., 0., 0., 0., 0., 0., 0., 0., 0., 0.],\n",
       "       [0., 0., 0., 0., 0., 0., 0., 0., 0., 0.],\n",
       "       [0., 0., 0., 0., 0., 0., 0., 0., 0., 0.],\n",
       "       [0., 0., 0., 0., 0., 0., 0., 0., 0., 0.],\n",
       "       [0., 0., 0., 0., 0., 0., 0., 0., 0., 0.],\n",
       "       [0., 0., 0., 0., 0., 0., 0., 0., 0., 0.],\n",
       "       [0., 0., 0., 0., 0., 0., 0., 0., 0., 0.],\n",
       "       [0., 0., 0., 0., 0., 0., 0., 0., 0., 0.],\n",
       "       [0., 0., 0., 0., 0., 0., 0., 0., 0., 0.],\n",
       "       [0., 0., 0., 0., 0., 0., 0., 0., 0., 0.]])"
      ]
     },
     "execution_count": 50,
     "metadata": {},
     "output_type": "execute_result"
    }
   ],
   "source": [
    "int_image[90:100, 90:100]"
   ]
  },
  {
   "cell_type": "code",
   "execution_count": null,
   "id": "8d5f7a3a-d170-49c4-aead-5ae4805689a9",
   "metadata": {},
   "outputs": [],
   "source": []
  },
  {
   "cell_type": "code",
   "execution_count": null,
   "id": "9adab577-2568-4b4b-ba5f-ee3451556b9a",
   "metadata": {},
   "outputs": [],
   "source": []
  },
  {
   "cell_type": "code",
   "execution_count": 31,
   "id": "babc6ecf-adaf-4aea-8c96-ddbb568244e4",
   "metadata": {},
   "outputs": [],
   "source": [
    "#######\n",
    "# below is old\n",
    "######"
   ]
  },
  {
   "cell_type": "code",
   "execution_count": 88,
   "id": "52e58f8b-d686-4f88-9802-6bb5a88a3eda",
   "metadata": {},
   "outputs": [],
   "source": [
    "gfp_pos_gate = IntervalGate((16000, 50000), \"GFP.KP1.9_cellMask\", 'in', name='GFP+ Tumor')\n",
    "gfp_pos_cd45_pos_gate = IntervalGate((2500, 10000), \"CD45_cellMask\", 'in', name='CD45+')\n",
    "gfp_pos_cd45_neg_gate = IntervalGate((0, 2500), \"CD45_cellMask\", 'in', name='CD45-')\n",
    "\n",
    "gfp_neg_gate = IntervalGate((0, 9000), \"GFP.KP1.9_cellMask\", 'in', name='GFP- Host')\n",
    "gfp_neg_cd45_pos_gate = IntervalGate((2500, 10000), \"CD45_cellMask\", 'in', name='CD45+')\n",
    "gfp_neg_cd45_neg_gate = IntervalGate((0, 2500), \"CD45_cellMask\", 'in', name='CD45-')\n",
    "\n",
    "\n",
    "gfp_pos_gated_sample = sample.gate(gfp_pos_gate)\n",
    "gfp_pos_cd45_pos_gated_sample = gfp_pos_gated_sample.gate(gfp_pos_cd45_pos_gate)\n",
    "gfp_pos_cd45_neg_gated_sample = gfp_pos_gated_sample.gate(gfp_pos_cd45_neg_gate)\n",
    "\n",
    "gfp_neg_gated_sample = sample.gate(gfp_neg_gate)\n",
    "gfp_neg_cd45_pos_gated_sample = gfp_neg_gated_sample.gate(gfp_neg_cd45_pos_gate)\n",
    "gfp_neg_cd45_neg_gated_sample = gfp_neg_gated_sample.gate(gfp_neg_cd45_neg_gate)"
   ]
  },
  {
   "cell_type": "code",
   "execution_count": 11,
   "id": "b3b876ca-6664-47f2-93e5-0e7ae2d4bd12",
   "metadata": {},
   "outputs": [
    {
     "data": {
      "text/plain": [
       "(16000, 50000)"
      ]
     },
     "execution_count": 11,
     "metadata": {},
     "output_type": "execute_result"
    }
   ],
   "source": [
    "gfp_pos_gate.vert"
   ]
  },
  {
   "cell_type": "code",
   "execution_count": 9,
   "id": "69217c00-d96f-48b4-9153-7689c425492a",
   "metadata": {},
   "outputs": [],
   "source": [
    "thresholds = {\n",
    "    \"GFP-\": {\n",
    "        \"CD206_cellMask\": 19000,\n",
    "        \"Arg1_cellMask\": 15000,\n",
    "        \"CD11c_cellMask\": 10000,\n",
    "    },\n",
    "    \"GFP+\": {\n",
    "        \"CD206_cellMask\": 13750,\n",
    "        \"Arg1_cellMask\": 12500,\n",
    "        \"CD11c_cellMask\": 9000,\n",
    "    },\n",
    "}\n",
    "\n",
    "gated_samples = {\n",
    "    \"GFP+\": gfp_pos_gated_sample,\n",
    "    \"GFP+/CD45+\": gfp_pos_cd45_pos_gated_sample,\n",
    "    \"GFP+/CD45-\": gfp_pos_cd45_neg_gated_sample,\n",
    "    \"GFP-\": gfp_neg_gated_sample,\n",
    "    \"GFP-/CD45+\": gfp_neg_cd45_pos_gated_sample,\n",
    "    \"GFP-/CD45-\": gfp_neg_cd45_neg_gated_sample,\n",
    "}"
   ]
  },
  {
   "cell_type": "code",
   "execution_count": 10,
   "id": "f27aa2ec-7455-42e4-9e9d-12c326c34556",
   "metadata": {},
   "outputs": [],
   "source": [
    "conditions = list(itertools.product([False, True], repeat=3))\n",
    "channels = [\"CD206_cellMask\", \"CD11c_cellMask\", \"Arg1_cellMask\"]\n",
    "\n",
    "gated_sample_df = pd.DataFrame(data=[], index=[], columns=[\"gated_sample\"])\n",
    "\n",
    "for gated_sample_name, gated_sample in gated_samples.items():\n",
    "    \n",
    "    condition_gated_df = pd.DataFrame(index=sample.get_data().index.values.tolist(), columns=[], data=[])\n",
    "    \n",
    "    for condition in conditions:\n",
    "        condition_state = dict(zip(channels, condition))\n",
    "        condition_name = \"\".join([ c_name.replace(\"_cellMask\", \"\") + (\"+\" if c_val else \"-\") for c_name, c_val in condition_state.items() ])\n",
    "        condition_gated_sample = gated_sample\n",
    "        \n",
    "        for condition_channel, condition_value in condition_state.items():\n",
    "            condition_gate = ThresholdGate(thresholds[gated_sample_name[:4]][condition_channel], condition_channel, (\"above\" if condition_value else \"below\"), )\n",
    "            condition_gated_sample = condition_gated_sample.gate(condition_gate)\n",
    "            \n",
    "        condition_cells = condition_gated_sample.get_data().index.values.tolist()\n",
    "        condition_gated_df[condition_name] = condition_gated_df.index.to_series().apply(lambda i: i in condition_cells)\n",
    "    \n",
    "    condition_gated_df.index = condition_gated_df.index.rename(\"cell_id\")\n",
    "        \n",
    "    condition_gated_df[\"gated_sample\"] = gated_sample_name\n",
    "    condition_gated_df = condition_gated_df.reset_index()\n",
    "    \n",
    "    gated_sample_df = gated_sample_df.append(condition_gated_df, ignore_index=True)"
   ]
  },
  {
   "cell_type": "code",
   "execution_count": 11,
   "id": "9571cd05-65cf-4709-84a2-d801c8dbb826",
   "metadata": {},
   "outputs": [
    {
     "data": {
      "text/html": [
       "<div>\n",
       "<style scoped>\n",
       "    .dataframe tbody tr th:only-of-type {\n",
       "        vertical-align: middle;\n",
       "    }\n",
       "\n",
       "    .dataframe tbody tr th {\n",
       "        vertical-align: top;\n",
       "    }\n",
       "\n",
       "    .dataframe thead th {\n",
       "        text-align: right;\n",
       "    }\n",
       "</style>\n",
       "<table border=\"1\" class=\"dataframe\">\n",
       "  <thead>\n",
       "    <tr style=\"text-align: right;\">\n",
       "      <th></th>\n",
       "      <th>gated_sample</th>\n",
       "      <th>cell_id</th>\n",
       "      <th>CD206-CD11c-Arg1-</th>\n",
       "      <th>CD206-CD11c-Arg1+</th>\n",
       "      <th>CD206-CD11c+Arg1-</th>\n",
       "      <th>CD206-CD11c+Arg1+</th>\n",
       "      <th>CD206+CD11c-Arg1-</th>\n",
       "      <th>CD206+CD11c-Arg1+</th>\n",
       "      <th>CD206+CD11c+Arg1-</th>\n",
       "      <th>CD206+CD11c+Arg1+</th>\n",
       "    </tr>\n",
       "  </thead>\n",
       "  <tbody>\n",
       "    <tr>\n",
       "      <th>0</th>\n",
       "      <td>GFP+</td>\n",
       "      <td>0.0</td>\n",
       "      <td>False</td>\n",
       "      <td>False</td>\n",
       "      <td>False</td>\n",
       "      <td>False</td>\n",
       "      <td>False</td>\n",
       "      <td>False</td>\n",
       "      <td>False</td>\n",
       "      <td>False</td>\n",
       "    </tr>\n",
       "    <tr>\n",
       "      <th>1</th>\n",
       "      <td>GFP+</td>\n",
       "      <td>1.0</td>\n",
       "      <td>False</td>\n",
       "      <td>False</td>\n",
       "      <td>False</td>\n",
       "      <td>False</td>\n",
       "      <td>False</td>\n",
       "      <td>False</td>\n",
       "      <td>False</td>\n",
       "      <td>False</td>\n",
       "    </tr>\n",
       "    <tr>\n",
       "      <th>2</th>\n",
       "      <td>GFP+</td>\n",
       "      <td>2.0</td>\n",
       "      <td>False</td>\n",
       "      <td>False</td>\n",
       "      <td>False</td>\n",
       "      <td>False</td>\n",
       "      <td>False</td>\n",
       "      <td>False</td>\n",
       "      <td>False</td>\n",
       "      <td>False</td>\n",
       "    </tr>\n",
       "    <tr>\n",
       "      <th>3</th>\n",
       "      <td>GFP+</td>\n",
       "      <td>3.0</td>\n",
       "      <td>False</td>\n",
       "      <td>False</td>\n",
       "      <td>False</td>\n",
       "      <td>False</td>\n",
       "      <td>False</td>\n",
       "      <td>False</td>\n",
       "      <td>False</td>\n",
       "      <td>False</td>\n",
       "    </tr>\n",
       "    <tr>\n",
       "      <th>4</th>\n",
       "      <td>GFP+</td>\n",
       "      <td>4.0</td>\n",
       "      <td>False</td>\n",
       "      <td>False</td>\n",
       "      <td>False</td>\n",
       "      <td>False</td>\n",
       "      <td>False</td>\n",
       "      <td>False</td>\n",
       "      <td>False</td>\n",
       "      <td>False</td>\n",
       "    </tr>\n",
       "  </tbody>\n",
       "</table>\n",
       "</div>"
      ],
      "text/plain": [
       "  gated_sample  cell_id CD206-CD11c-Arg1- CD206-CD11c-Arg1+ CD206-CD11c+Arg1-  \\\n",
       "0         GFP+      0.0             False             False             False   \n",
       "1         GFP+      1.0             False             False             False   \n",
       "2         GFP+      2.0             False             False             False   \n",
       "3         GFP+      3.0             False             False             False   \n",
       "4         GFP+      4.0             False             False             False   \n",
       "\n",
       "  CD206-CD11c+Arg1+ CD206+CD11c-Arg1- CD206+CD11c-Arg1+ CD206+CD11c+Arg1-  \\\n",
       "0             False             False             False             False   \n",
       "1             False             False             False             False   \n",
       "2             False             False             False             False   \n",
       "3             False             False             False             False   \n",
       "4             False             False             False             False   \n",
       "\n",
       "  CD206+CD11c+Arg1+  \n",
       "0             False  \n",
       "1             False  \n",
       "2             False  \n",
       "3             False  \n",
       "4             False  "
      ]
     },
     "execution_count": 11,
     "metadata": {},
     "output_type": "execute_result"
    }
   ],
   "source": [
    "gated_sample_df.head()"
   ]
  },
  {
   "cell_type": "code",
   "execution_count": 12,
   "id": "ac3096c2-6391-46b3-a305-50b76aa25a3b",
   "metadata": {},
   "outputs": [],
   "source": [
    "gated_sample_df.to_csv(join(\"data\", sample_id, \"flowcore\", f\"{sample_id}.eight_classes.csv\"))"
   ]
  },
  {
   "cell_type": "code",
   "execution_count": null,
   "id": "de845dc1-3abb-4346-a613-f25459fa50bd",
   "metadata": {},
   "outputs": [],
   "source": []
  },
  {
   "cell_type": "code",
   "execution_count": null,
   "id": "1e25458f-6398-4933-9e80-49911610f420",
   "metadata": {},
   "outputs": [],
   "source": []
  },
  {
   "cell_type": "code",
   "execution_count": null,
   "id": "a257491a-71a9-4c1b-b29d-d52136be93db",
   "metadata": {},
   "outputs": [],
   "source": []
  },
  {
   "cell_type": "code",
   "execution_count": null,
   "id": "2dc6687e-71ee-40c0-aaf1-3dc856bebadd",
   "metadata": {},
   "outputs": [],
   "source": []
  },
  {
   "cell_type": "code",
   "execution_count": null,
   "id": "5d515531-6de8-4aba-943d-b8c417803c4d",
   "metadata": {},
   "outputs": [],
   "source": []
  },
  {
   "cell_type": "code",
   "execution_count": 42,
   "id": "7c10f49e-5009-4c7a-8b7f-87470f256743",
   "metadata": {},
   "outputs": [],
   "source": [
    "gfp_pos_gate = PolyGate([(20000, 16000), (62000, 16000), (62000, 50000), (20000, 50000)], channels=['DAPI_1_cellMask', 'GFP.KP1.9_cellMask'], region='in', name='GFP+ Tumor')\n",
    "gfp_neg_gate = PolyGate([(20000, 0), (60000, 0), (60000, 9000), (20000, 9000)], channels=['DAPI_1_cellMask', 'GFP.KP1.9_cellMask'], region='in', name='GFP- Host')\n",
    "\n",
    "# Host (slide 1)\n",
    "gfp_neg_cd45_pos_cd206_pos_gate = PolyGate([(2500, 19000), (10000, 19000), (10000, 35000), (2500, 35000)], channels=['CD45_cellMask', 'CD206_cellMask'], region='in', name='CD45+CD206+')\n",
    "gfp_neg_cd45_pos_cd206_pos_cd11c_pos_arg1_pos_gate = PolyGate([(15000, 10000), (30000, 10000), (30000, 20000), (15000, 20000)], channels=['Arg1_cellMask', 'CD11c_cellMask'], region='in', name='CD11c+Arg1+')\n",
    "\n",
    "# Tumor (slide 2)\n",
    "gfp_pos_cd45_neg_cd206_neg_gate = PolyGate([(0, 0), (7000, 0), (7000, 13750), (0, 13750)], channels=['CD45_cellMask', 'CD206_cellMask'], region='in', name='CD45-CD206-')\n",
    "gfp_pos_cd45_neg_cd206_neg_cd11c_neg_arg1_neg_gate = PolyGate([(2500, 0), (12500, 0), (12500, 9000), (2500, 9000)], channels=['Arg1_cellMask', 'CD11c_cellMask'], region='in', name='CD11c-Arg1-')"
   ]
  },
  {
   "cell_type": "code",
   "execution_count": 10,
   "id": "d6a02236-b9e3-4dcc-a3dc-93d1c219d4e5",
   "metadata": {},
   "outputs": [
    {
     "data": {
      "text/plain": [
       "<Figure size 432x288 with 0 Axes>"
      ]
     },
     "metadata": {},
     "output_type": "display_data"
    }
   ],
   "source": [
    "figure();"
   ]
  },
  {
   "cell_type": "code",
   "execution_count": 11,
   "id": "5fe31728-71ea-401e-af46-255bd74bd924",
   "metadata": {},
   "outputs": [
    {
     "data": {
      "image/png": "[encoded data removed]",
      "text/plain": [
       "<Figure size 432x288 with 1 Axes>"
      ]
     },
     "metadata": {
      "needs_background": "light"
     },
     "output_type": "display_data"
    }
   ],
   "source": [
    "sample.plot(['DAPI_1_cellMask', 'GFP.KP1.9_cellMask'], gates=[gfp_pos_gate, gfp_neg_gate]);"
   ]
  },
  {
   "cell_type": "code",
   "execution_count": 12,
   "id": "98bc9141-65f3-4fe2-a5dd-c6ed9304d278",
   "metadata": {},
   "outputs": [],
   "source": [
    "gfp_pos_gated_sample = sample.gate(gfp_pos_gate)\n",
    "gfp_neg_gated_sample = sample.gate(gfp_neg_gate)"
   ]
  },
  {
   "cell_type": "code",
   "execution_count": 13,
   "id": "60919e00-bba7-4c7e-b380-c9c522dde4a3",
   "metadata": {},
   "outputs": [
    {
     "data": {
      "text/plain": [
       "1399"
      ]
     },
     "execution_count": 13,
     "metadata": {},
     "output_type": "execute_result"
    }
   ],
   "source": [
    "gfp_neg_gated_sample.counts"
   ]
  },
  {
   "cell_type": "markdown",
   "id": "34b1089d-d838-43b9-8068-80595ff66893",
   "metadata": {},
   "source": [
    "## GFP- Host"
   ]
  },
  {
   "cell_type": "code",
   "execution_count": 14,
   "id": "f13c0ac4-05ae-4a42-9c02-727a9b4d8fa2",
   "metadata": {},
   "outputs": [
    {
     "data": {
      "image/png": "[encoded data removed]",
      "text/plain": [
       "<Figure size 432x288 with 1 Axes>"
      ]
     },
     "metadata": {
      "needs_background": "light"
     },
     "output_type": "display_data"
    }
   ],
   "source": [
    "gfp_neg_gated_sample.plot(['CD45_cellMask', 'CD206_cellMask'], gates=[gfp_neg_cd45_pos_cd206_pos_gate]);"
   ]
  },
  {
   "cell_type": "code",
   "execution_count": 15,
   "id": "0a5ccb83-6675-4b7f-a9e0-8a52c0bea383",
   "metadata": {},
   "outputs": [],
   "source": [
    "gfp_neg_cd45_pos_cd206_pos_gated_sample = gfp_neg_gated_sample.gate(gfp_neg_cd45_pos_cd206_pos_gate)"
   ]
  },
  {
   "cell_type": "code",
   "execution_count": 16,
   "id": "e412e208-bf63-4304-a16b-f50b6d38053d",
   "metadata": {},
   "outputs": [
    {
     "data": {
      "text/plain": [
       "136"
      ]
     },
     "execution_count": 16,
     "metadata": {},
     "output_type": "execute_result"
    }
   ],
   "source": [
    "gfp_neg_cd45_pos_cd206_pos_gated_sample.counts"
   ]
  },
  {
   "cell_type": "code",
   "execution_count": 17,
   "id": "78cd3404-63cf-4cb5-a912-a9537cdf85d2",
   "metadata": {},
   "outputs": [
    {
     "data": {
      "image/png": "[encoded data removed]",
      "text/plain": [
       "<Figure size 432x288 with 1 Axes>"
      ]
     },
     "metadata": {
      "needs_background": "light"
     },
     "output_type": "display_data"
    }
   ],
   "source": [
    "gfp_neg_cd45_pos_cd206_pos_gated_sample.plot(['Arg1_cellMask', 'CD11c_cellMask'], gates=[gfp_neg_cd45_pos_cd206_pos_cd11c_pos_arg1_pos_gate]);"
   ]
  },
  {
   "cell_type": "code",
   "execution_count": 18,
   "id": "5045c94e-e03e-4b95-b932-19609d888fce",
   "metadata": {},
   "outputs": [],
   "source": [
    "gfp_neg_cd45_pos_cd206_pos_cd11c_pos_arg1_pos_gated_sample = gfp_neg_cd45_pos_cd206_pos_gated_sample.gate(gfp_neg_cd45_pos_cd206_pos_cd11c_pos_arg1_pos_gate)"
   ]
  },
  {
   "cell_type": "code",
   "execution_count": 19,
   "id": "85ed1a71-bd52-42be-8804-76e761b9a1fd",
   "metadata": {},
   "outputs": [
    {
     "data": {
      "text/plain": [
       "71"
      ]
     },
     "execution_count": 19,
     "metadata": {},
     "output_type": "execute_result"
    }
   ],
   "source": [
    "gfp_neg_cd45_pos_cd206_pos_cd11c_pos_arg1_pos_gated_sample.counts"
   ]
  },
  {
   "cell_type": "code",
   "execution_count": 20,
   "id": "f57c7569-9e21-423c-9b63-86f06d92f7b8",
   "metadata": {},
   "outputs": [
    {
     "data": {
      "image/png": "[encoded data removed]",
      "text/plain": [
       "<Figure size 432x288 with 1 Axes>"
      ]
     },
     "metadata": {
      "needs_background": "light"
     },
     "output_type": "display_data"
    }
   ],
   "source": [
    "gfp_neg_cd45_pos_cd206_pos_cd11c_pos_arg1_pos_gated_sample.plot(['C12.D.nanoparticle_cellMask', 'X7C1.F5.nanoparticle_cellMask']);"
   ]
  },
  {
   "cell_type": "markdown",
   "id": "124bf729-3f0d-49e8-8f76-339abfc379bc",
   "metadata": {},
   "source": [
    "## GFP+ Tumor"
   ]
  },
  {
   "cell_type": "code",
   "execution_count": 21,
   "id": "8506fdc1-d92c-45bd-b4df-df791019fbc6",
   "metadata": {},
   "outputs": [
    {
     "data": {
      "image/png": "[encoded data removed]",
      "text/plain": [
       "<Figure size 432x288 with 1 Axes>"
      ]
     },
     "metadata": {
      "needs_background": "light"
     },
     "output_type": "display_data"
    }
   ],
   "source": [
    "gfp_pos_gated_sample.plot(['CD45_cellMask', 'CD206_cellMask'], gates=[gfp_pos_cd45_neg_cd206_neg_gate]);"
   ]
  },
  {
   "cell_type": "code",
   "execution_count": 22,
   "id": "639c2963-6bd2-474d-b6d8-d3b4a891e3ab",
   "metadata": {},
   "outputs": [],
   "source": [
    "gfp_pos_cd45_neg_cd206_neg_gated_sample = gfp_pos_gated_sample.gate(gfp_pos_cd45_neg_cd206_neg_gate)"
   ]
  },
  {
   "cell_type": "code",
   "execution_count": 23,
   "id": "7aa2b194-0a1d-43c5-8ac1-f03758bf3a15",
   "metadata": {},
   "outputs": [
    {
     "data": {
      "text/plain": [
       "738"
      ]
     },
     "execution_count": 23,
     "metadata": {},
     "output_type": "execute_result"
    }
   ],
   "source": [
    "gfp_pos_cd45_neg_cd206_neg_gated_sample.counts"
   ]
  },
  {
   "cell_type": "code",
   "execution_count": 24,
   "id": "d52e2beb-4fb0-4e21-991f-f24c29dfc786",
   "metadata": {},
   "outputs": [
    {
     "data": {
      "image/png": "[encoded data removed]",
      "text/plain": [
       "<Figure size 432x288 with 1 Axes>"
      ]
     },
     "metadata": {
      "needs_background": "light"
     },
     "output_type": "display_data"
    }
   ],
   "source": [
    "gfp_pos_cd45_neg_cd206_neg_gated_sample.plot(['Arg1_cellMask', 'CD11c_cellMask'], gates=[gfp_pos_cd45_neg_cd206_neg_cd11c_neg_arg1_neg_gate]);"
   ]
  },
  {
   "cell_type": "code",
   "execution_count": 25,
   "id": "fa3b3324-d662-4e14-9dee-bd42fc6fbc3f",
   "metadata": {},
   "outputs": [],
   "source": [
    "gfp_pos_cd45_neg_cd206_neg_cd11c_neg_arg1_neg_gated_sample = gfp_pos_cd45_neg_cd206_neg_gated_sample.gate(gfp_pos_cd45_neg_cd206_neg_cd11c_neg_arg1_neg_gate)"
   ]
  },
  {
   "cell_type": "code",
   "execution_count": 26,
   "id": "4fe3f5d3-1e0e-47d1-98ca-0431eaddd8f9",
   "metadata": {},
   "outputs": [
    {
     "data": {
      "text/plain": [
       "519"
      ]
     },
     "execution_count": 26,
     "metadata": {},
     "output_type": "execute_result"
    }
   ],
   "source": [
    "gfp_pos_cd45_neg_cd206_neg_cd11c_neg_arg1_neg_gated_sample.counts"
   ]
  },
  {
   "cell_type": "code",
   "execution_count": 27,
   "id": "bc7fcab7-3e6a-480e-84bb-0f5478786493",
   "metadata": {},
   "outputs": [],
   "source": [
    "def classify_cells(sample, class_to_df):\n",
    "    df = pd.DataFrame(index=sample.get_data().index.values.tolist(), columns=[], data=[])\n",
    "    for cell_class_name, cell_class_sample in class_to_df.items():\n",
    "        cells = cell_class_sample.get_data().index.values.tolist()\n",
    "        df[cell_class_name] = df.index.to_series().apply(lambda i: i in cells)\n",
    "    \n",
    "    return df"
   ]
  },
  {
   "cell_type": "code",
   "execution_count": 28,
   "id": "2db7add3-60c7-45f3-9918-08f48ec3a738",
   "metadata": {},
   "outputs": [],
   "source": [
    "df = classify_cells(sample, {\n",
    "    \"GFP-\": gfp_neg_gated_sample,\n",
    "    \"GFP-/CD45+CD206+\": gfp_neg_cd45_pos_cd206_pos_gated_sample,\n",
    "    \"GFP-/CD45+CD206+/CD11c+Arg1+\": gfp_neg_cd45_pos_cd206_pos_cd11c_pos_arg1_pos_gated_sample,\n",
    "    \"GFP+\": gfp_pos_gated_sample,\n",
    "    \"GFP+/CD45-CD206-\": gfp_pos_cd45_neg_cd206_neg_gated_sample,\n",
    "    \"GFP+/CD45-CD206-/CD11c-Arg1-\": gfp_pos_cd45_neg_cd206_neg_cd11c_neg_arg1_neg_gated_sample,\n",
    "})\n",
    "\n",
    "df.to_csv(join(\"data\", sample_id, \"flowcore\", f\"{sample_id}.classes.csv\"), index=True)"
   ]
  },
  {
   "cell_type": "code",
   "execution_count": 29,
   "id": "0c846956-d157-4cba-a933-452a1bad6d78",
   "metadata": {},
   "outputs": [],
   "source": [
    "writer = pd.ExcelWriter(join(\"data\", sample_id, \"flowcore\", f\"{sample_id}.classes.xlsx\"))\n",
    "\n",
    "for col in df.columns.values.tolist():\n",
    "    sample.get_data().loc[df[col]].to_excel(writer, sheet_name=col.replace(\"/\", \" \"))\n",
    "\n",
    "writer.save()"
   ]
  },
  {
   "cell_type": "code",
   "execution_count": null,
   "id": "551afa77-e0ae-4564-a5e5-3705bc920be1",
   "metadata": {},
   "outputs": [],
   "source": []
  },
  {
   "cell_type": "code",
   "execution_count": null,
   "id": "e8b414f8-2acd-4449-b915-b7db9966aedd",
   "metadata": {},
   "outputs": [],
   "source": []
  },
  {
   "cell_type": "code",
   "execution_count": null,
   "id": "b7f2db10-aab5-4c66-a77c-a567eb5f9eea",
   "metadata": {},
   "outputs": [],
   "source": []
  }
 ],
 "metadata": {
  "kernelspec": {
   "display_name": "Python 3",
   "language": "python",
   "name": "python3"
  },
  "language_info": {
   "codemirror_mode": {
    "name": "ipython",
    "version": 3
   },
   "file_extension": ".py",
   "mimetype": "text/x-python",
   "name": "python",
   "nbconvert_exporter": "python",
   "pygments_lexer": "ipython3",
   "version": "3.8.8"
  }
 },
 "nbformat": 4,
 "nbformat_minor": 5
}
